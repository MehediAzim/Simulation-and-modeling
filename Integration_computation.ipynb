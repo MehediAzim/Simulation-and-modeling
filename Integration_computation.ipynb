{
  "nbformat": 4,
  "nbformat_minor": 0,
  "metadata": {
    "colab": {
      "name": "Integration_computation.ipynb",
      "provenance": [],
      "collapsed_sections": [],
      "include_colab_link": true
    },
    "kernelspec": {
      "name": "python3",
      "display_name": "Python 3"
    }
  },
  "cells": [
    {
      "cell_type": "markdown",
      "metadata": {
        "id": "view-in-github",
        "colab_type": "text"
      },
      "source": [
        "<a href=\"https://colab.research.google.com/github/MehediAzim/Simulation-and-modeling/blob/master/Integration_computation.ipynb\" target=\"_parent\"><img src=\"https://colab.research.google.com/assets/colab-badge.svg\" alt=\"Open In Colab\"/></a>"
      ]
    },
    {
      "cell_type": "code",
      "metadata": {
        "id": "6_aMn4CFNBfh",
        "colab_type": "code",
        "colab": {}
      },
      "source": [
        "import numpy as np\n",
        "import pandas as pd\n",
        "import matplotlib.pyplot as plt\n",
        "import math  "
      ],
      "execution_count": null,
      "outputs": []
    },
    {
      "cell_type": "code",
      "metadata": {
        "id": "jwJmVVO_NXsG",
        "colab_type": "code",
        "colab": {}
      },
      "source": [
        "N = 1000\n",
        "a =0\n",
        "b = 2\n",
        "x = np.random.uniform(a,b,N)"
      ],
      "execution_count": null,
      "outputs": []
    },
    {
      "cell_type": "code",
      "metadata": {
        "id": "qxe4paj-V9xc",
        "colab_type": "code",
        "colab": {}
      },
      "source": [
        "print(x)"
      ],
      "execution_count": null,
      "outputs": []
    },
    {
      "cell_type": "code",
      "metadata": {
        "id": "RkvkbdIUNkM9",
        "colab_type": "code",
        "colab": {
          "base_uri": "https://localhost:8080/",
          "height": 34
        },
        "outputId": "5f9f85bd-bacd-4f41-d573-b90c46cbb722"
      },
      "source": [
        "total_sum = 0\n",
        "f_square_total = 0\n",
        "for i in range(N):\n",
        "  func_value =(x[i]*math.exp(x[i]))\n",
        "  total_sum = total_sum + func_value\n",
        "\n",
        "  f_square_total = f_square_total + func_value**2\n",
        "\n",
        "\n",
        "f_mean = total_sum/N\n",
        "f_square_mean = f_square_total/N\n",
        "integral_value = (b-a)*f_mean\n",
        "\n",
        "print(integral_value)"
      ],
      "execution_count": null,
      "outputs": [
        {
          "output_type": "stream",
          "text": [
            "8.41434924797048\n"
          ],
          "name": "stdout"
        }
      ]
    },
    {
      "cell_type": "code",
      "metadata": {
        "id": "6DYlUhC9YUjr",
        "colab_type": "code",
        "colab": {
          "base_uri": "https://localhost:8080/",
          "height": 34
        },
        "outputId": "2d385bb9-a446-4a0a-b785-fecc70eb8b98"
      },
      "source": [
        "error =  ((b-a)/math.sqrt(N))*math.sqrt(f_square_mean - f_mean**2)\n",
        "print(error)"
      ],
      "execution_count": null,
      "outputs": [
        {
          "output_type": "stream",
          "text": [
            "0.2591071035706631\n"
          ],
          "name": "stdout"
        }
      ]
    }
  ]
}