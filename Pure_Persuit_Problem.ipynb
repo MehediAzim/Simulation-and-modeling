{
  "nbformat": 4,
  "nbformat_minor": 0,
  "metadata": {
    "colab": {
      "name": "Pure Persuit Problem.ipynb",
      "provenance": [],
      "collapsed_sections": [],
      "include_colab_link": true
    },
    "kernelspec": {
      "name": "python3",
      "display_name": "Python 3"
    }
  },
  "cells": [
    {
      "cell_type": "markdown",
      "metadata": {
        "id": "view-in-github",
        "colab_type": "text"
      },
      "source": [
        "<a href=\"https://colab.research.google.com/github/MehediAzim/Simulation-and-modeling/blob/master/Pure_Persuit_Problem.ipynb\" target=\"_parent\"><img src=\"https://colab.research.google.com/assets/colab-badge.svg\" alt=\"Open In Colab\"/></a>"
      ]
    },
    {
      "cell_type": "code",
      "metadata": {
        "id": "c6bWu6fgL_al",
        "colab_type": "code",
        "colab": {}
      },
      "source": [
        "import numpy as np\n",
        "import pandas as pd\n",
        "import matplotlib.pyplot as plt\n",
        "import math  "
      ],
      "execution_count": null,
      "outputs": []
    },
    {
      "cell_type": "code",
      "metadata": {
        "id": "HagUa2k3MUHk",
        "colab_type": "code",
        "colab": {
          "base_uri": "https://localhost:8080/",
          "height": 34
        },
        "outputId": "a02b5913-40bb-4b99-950a-0eb69f74fd3d"
      },
      "source": [
        "np.random.seed()\n",
        "\n",
        "xt = [100,110,120,129,140,149,158,168,179,188,198,209,219]\n",
        "yt = [0,3,6,10,15,20,26,32,37,34,30,27,23]\n",
        "xd = [0]\n",
        "yd = [60]\n",
        "\n",
        "s = 20  "
      ],
      "execution_count": null,
      "outputs": [
        {
          "output_type": "execute_result",
          "data": {
            "text/plain": [
              "13"
            ]
          },
          "metadata": {
            "tags": []
          },
          "execution_count": 24
        }
      ]
    },
    {
      "cell_type": "code",
      "metadata": {
        "id": "VCMpBXHdQFZr",
        "colab_type": "code",
        "colab": {
          "base_uri": "https://localhost:8080/",
          "height": 34
        },
        "outputId": "8a4e4151-6d26-4f66-d8ef-5872b3bef975"
      },
      "source": [
        "dist = np.sqrt((xt[0]-xd[0])**2 + (yt[0]-yd[0])**2)\n",
        "dist"
      ],
      "execution_count": null,
      "outputs": [
        {
          "output_type": "execute_result",
          "data": {
            "text/plain": [
              "116.61903789690601"
            ]
          },
          "metadata": {
            "tags": []
          },
          "execution_count": 25
        }
      ]
    },
    {
      "cell_type": "code",
      "metadata": {
        "id": "_VD9bK8QPMDq",
        "colab_type": "code",
        "colab": {
          "base_uri": "https://localhost:8080/",
          "height": 34
        },
        "outputId": "01527c55-ebef-41f2-f640-a15bd075e578"
      },
      "source": [
        "for i in range(1,len(xt)):\n",
        "  sin_theta = (yt[i-1]-yd[i-1])/dist\n",
        "  cos_theta =  (xt[i-1]-xd[i-1])/dist\n",
        "  xd_new = xd[i-1]+ s*cos_theta\n",
        "  yd_new = yd[i-1]+ s*sin_theta\n",
        "  xd.append(xd_new)\n",
        "  yd.append(yd_new)\n",
        "  dist = np.sqrt((xt[i]-xd[i])**2 + (yt[i]-yd[i])**2)\n",
        "  if dist <= 10:\n",
        "    print(\"target distroyed\")\n",
        "    break;\n"
      ],
      "execution_count": null,
      "outputs": [
        {
          "output_type": "stream",
          "text": [
            "target distroyed\n"
          ],
          "name": "stdout"
        }
      ]
    },
    {
      "cell_type": "code",
      "metadata": {
        "id": "8d8-J2MzSMr7",
        "colab_type": "code",
        "colab": {
          "base_uri": "https://localhost:8080/",
          "height": 54
        },
        "outputId": "6d0ea9bd-8e67-4a59-c5ce-bb83999c19c8"
      },
      "source": [
        "print(xd,yd)"
      ],
      "execution_count": null,
      "outputs": [
        {
          "output_type": "stream",
          "text": [
            "[0, 17.149858514250884, 35.01641115673864, 53.53071140145425, 72.6508284793503, 92.32589472576817, 112.28340693274177, 132.2215856640328, 151.7359467869743, 170.7992953406546, 190.79394651538675] [60, 49.71008489144947, 40.721965139620735, 33.15752950644071, 27.29057774870928, 23.700066893821308, 22.397106223463226, 23.96842060292196, 28.349026721192537, 34.39788958299515, 33.935369960944364]\n"
          ],
          "name": "stdout"
        }
      ]
    },
    {
      "cell_type": "code",
      "metadata": {
        "id": "1TVACpt4Sl1Q",
        "colab_type": "code",
        "colab": {
          "base_uri": "https://localhost:8080/",
          "height": 295
        },
        "outputId": "a3a1697d-40e5-4bbe-9589-57bd9bdd1d4a"
      },
      "source": [
        "plt.plot(xd, yd, color='green', linestyle='dashed' , linewidth = 3, \n",
        "         marker='o', markerfacecolor='blue', markersize=12) \n",
        "plt.plot(xt, yt, color='red', linestyle='dashed', linewidth = 3, \n",
        "         marker='o', markerfacecolor='blue', markersize=12) \n",
        "# setting x and y axis range \n",
        "# plt.ylim(1,8) \n",
        "# plt.xlim(1,8) \n",
        "  \n",
        "# naming the x axis \n",
        "plt.xlabel('x - axis') \n",
        "# naming the y axis \n",
        "plt.ylabel('y - axis') \n",
        "  \n",
        "# giving a title to my graph \n",
        "plt.title('Pure Persuit Problem') \n",
        "  \n",
        "# function to show the plot \n",
        "plt.show() "
      ],
      "execution_count": null,
      "outputs": [
        {
          "output_type": "display_data",
          "data": {
            "image/png": "[encoded data removed]",
            "text/plain": [
              "<Figure size 432x288 with 1 Axes>"
            ]
          },
          "metadata": {
            "tags": []
          }
        }
      ]
    }
  ]
}