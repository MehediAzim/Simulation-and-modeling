{
  "nbformat": 4,
  "nbformat_minor": 0,
  "metadata": {
    "colab": {
      "name": "Buffons Needle.ipynb",
      "provenance": [],
      "include_colab_link": true
    },
    "kernelspec": {
      "name": "python3",
      "display_name": "Python 3"
    }
  },
  "cells": [
    {
      "cell_type": "markdown",
      "metadata": {
        "id": "view-in-github",
        "colab_type": "text"
      },
      "source": [
        "<a href=\"https://colab.research.google.com/github/MehediAzim/Simulation-and-modeling/blob/master/Buffons_Needle.ipynb\" target=\"_parent\"><img src=\"https://colab.research.google.com/assets/colab-badge.svg\" alt=\"Open In Colab\"/></a>"
      ]
    },
    {
      "cell_type": "code",
      "metadata": {
        "id": "2bDOSeAtOfmY",
        "colab_type": "code",
        "colab": {}
      },
      "source": [
        "import numpy as np\n",
        "import pandas as pd\n",
        "import matplotlib.pyplot as plt\n",
        "import math  "
      ],
      "execution_count": null,
      "outputs": []
    },
    {
      "cell_type": "code",
      "metadata": {
        "id": "Km2bAFRNPaUW",
        "colab_type": "code",
        "colab": {}
      },
      "source": [
        "np.random.seed()\n",
        "tick_label = ['100','1000','5000','10000']\n",
        "shots = [100,1000,5000,10000]\n",
        "error_list = []\n",
        "pi_list = []\n",
        "\n",
        "for total_shots in shots: \n",
        "  # total_shots = 100000 #number of trials\n",
        "  # x = np.random.uniform(a,b,N)\n",
        "  # np.random.randint(2, size=10)\n",
        "  x = np.random.choice([1, 0],total_shots, p=[0.64, 0.36])\n",
        "  total_hits = sum(x)\n",
        "  pi = 2 * (total_shots/total_hits)\n",
        "  error = abs(math.pi- pi)*100\n",
        "\n",
        "  pi_list.append(pi)\n",
        "  error_list.append(error)\n",
        "\n",
        "\n",
        "  "
      ],
      "execution_count": null,
      "outputs": []
    },
    {
      "cell_type": "code",
      "metadata": {
        "id": "ahmHnaCiUXA-",
        "colab_type": "code",
        "colab": {
          "base_uri": "https://localhost:8080/",
          "height": 52
        },
        "outputId": "72d0b67c-87fc-40c7-ee62-f2e9a093dd20"
      },
      "source": [
        "print(pi_list)\n",
        "print(error_list)"
      ],
      "execution_count": null,
      "outputs": [
        {
          "output_type": "stream",
          "text": [
            "[2.857142857142857, 3.10077519379845, 3.0988534242330337, 3.146138115463269]\n",
            "[28.44497964469359, 4.0817459791343325, 4.2739229356759445, 0.4545461873475709]\n"
          ],
          "name": "stdout"
        }
      ]
    },
    {
      "cell_type": "code",
      "metadata": {
        "id": "Rvw1tfloVUM-",
        "colab_type": "code",
        "colab": {
          "base_uri": "https://localhost:8080/",
          "height": 295
        },
        "outputId": "9aafb8f8-a2ab-47fe-d89c-11256a383f56"
      },
      "source": [
        "import matplotlib.pyplot as plt \n",
        "tick_label = ['100','1000','5000','10000']\n",
        "  \n",
        "plt.bar(tick_label,error_list) \n",
        "  \n",
        "# naming the x-axis \n",
        "plt.xlabel('Shots') \n",
        "# naming the y-axis \n",
        "plt.ylabel('Error') \n",
        "# plot title \n",
        "plt.title('My bar chart!') \n",
        "  \n",
        "# function to show the plot \n",
        "plt.show() \n"
      ],
      "execution_count": null,
      "outputs": [
        {
          "output_type": "display_data",
          "data": {
            "image/png": "[encoded data removed]",
            "text/plain": [
              "<Figure size 432x288 with 1 Axes>"
            ]
          },
          "metadata": {
            "tags": []
          }
        }
      ]
    }
  ]
}