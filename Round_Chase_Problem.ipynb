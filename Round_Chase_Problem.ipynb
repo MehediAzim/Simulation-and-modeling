{
  "nbformat": 4,
  "nbformat_minor": 0,
  "metadata": {
    "colab": {
      "name": "Round Chase Problem.ipynb",
      "provenance": [],
      "collapsed_sections": [],
      "include_colab_link": true
    },
    "kernelspec": {
      "name": "python3",
      "display_name": "Python 3"
    }
  },
  "cells": [
    {
      "cell_type": "markdown",
      "metadata": {
        "id": "view-in-github",
        "colab_type": "text"
      },
      "source": [
        "<a href=\"https://colab.research.google.com/github/MehediAzim/Simulation-and-modeling/blob/master/Round_Chase_Problem.ipynb\" target=\"_parent\"><img src=\"https://colab.research.google.com/assets/colab-badge.svg\" alt=\"Open In Colab\"/></a>"
      ]
    },
    {
      "cell_type": "code",
      "metadata": {
        "id": "c6bWu6fgL_al",
        "colab_type": "code",
        "colab": {}
      },
      "source": [
        "import numpy as np\n",
        "import pandas as pd\n",
        "import matplotlib.pyplot as plt\n",
        "import math  "
      ],
      "execution_count": null,
      "outputs": []
    },
    {
      "cell_type": "code",
      "metadata": {
        "id": "HagUa2k3MUHk",
        "colab_type": "code",
        "colab": {}
      },
      "source": [
        "# np.random.seed()\n",
        "# total_shots = 100000 #number of trials\n",
        "# x = np.random.uniform(a,b,N)\n",
        "# np.random.randint(2, size=10)\n",
        "xa = [10]\n",
        "ya = [10]\n",
        "\n",
        "xb = [30]\n",
        "yb = [10]\n",
        "\n",
        "xc = [30]\n",
        "yc = [30]\n",
        "\n",
        "xd = [0]\n",
        "yd = [30]"
      ],
      "execution_count": null,
      "outputs": []
    },
    {
      "cell_type": "code",
      "metadata": {
        "id": "uMFcEaZiS7ZN",
        "colab_type": "code",
        "colab": {}
      },
      "source": [
        "#speed of each object\n",
        "va = 10\n",
        "vb = 15\n",
        "vc = 12\n",
        "vd = 5\n",
        "\n",
        "countd = 0\n",
        "countc = 0\n",
        "countb= 0\n",
        "counta = 0"
      ],
      "execution_count": null,
      "outputs": []
    },
    {
      "cell_type": "code",
      "metadata": {
        "id": "VCMpBXHdQFZr",
        "colab_type": "code",
        "colab": {
          "base_uri": "https://localhost:8080/",
          "height": 34
        },
        "outputId": "194b508a-2c9b-40ca-9b0a-9f857525f213"
      },
      "source": [
        "dist_cd = np.sqrt((xc[0]-xd[0])**2 + (yc[0]-yd[0])**2)\n",
        "dist_bc = np.sqrt((xb[0]-xc[0])**2 + (yb[0]-yc[0])**2)\n",
        "dist_ab = np.sqrt((xa[0]-xb[0])**2 + (ya[0]-yb[0])**2)\n",
        "dist_da = np.sqrt((xd[0]-xa[0])**2 + (yd[0]-ya[0])**2)\n",
        "\n",
        "print(dist_cd,dist_bc,dist_ab,dist_da)"
      ],
      "execution_count": null,
      "outputs": [
        {
          "output_type": "stream",
          "text": [
            "30.0 20.0 20.0 22.360679774997898\n"
          ],
          "name": "stdout"
        }
      ]
    },
    {
      "cell_type": "code",
      "metadata": {
        "id": "_VD9bK8QPMDq",
        "colab_type": "code",
        "colab": {
          "base_uri": "https://localhost:8080/",
          "height": 521
        },
        "outputId": "55e13e19-d4e3-4367-af9c-09422834a240"
      },
      "source": [
        "for i in range(1,21):\n",
        "  #C shoting D\n",
        "  sin_theta = (yd[i-1]-yc[i-1])/dist_cd\n",
        "  cos_theta =  (xd[i-1]-xc[i-1])/dist_cd\n",
        "  xc_new = xc[i-1]+ vc*cos_theta\n",
        "  yc_new = yc[i-1]+ vc*sin_theta\n",
        "  xc.append(xc_new)\n",
        "  yc.append(yc_new)\n",
        "\n",
        "  \n",
        "  #B shoting C\n",
        "  sin_theta = (yc[i-1]-yb[i-1])/dist_bc\n",
        "  cos_theta =  (xc[i-1]-xb[i-1])/dist_bc\n",
        "  xb_new = xb[i-1]+ vb*cos_theta\n",
        "  yb_new = yb[i-1]+ vb*sin_theta\n",
        "  xb.append(xb_new)\n",
        "  yb.append(yb_new)\n",
        "\n",
        "\n",
        "  #A shoting B\n",
        "  sin_theta = (yb[i-1]-ya[i-1])/dist_ab\n",
        "  cos_theta =  (xb[i-1]-xa[i-1])/dist_ab\n",
        "  xa_new = xa[i-1]+ va*cos_theta\n",
        "  ya_new = ya[i-1]+ va*sin_theta\n",
        "  xa.append(xa_new)\n",
        "  ya.append(ya_new)\n",
        "\n",
        "  #D shoting A\n",
        "  sin_theta = (ya[i-1]-yd[i-1])/dist_da\n",
        "  cos_theta =  (xa[i-1]-xd[i-1])/dist_da\n",
        "  xd_new = xd[i-1]+ vd*cos_theta\n",
        "  yd_new = yd[i-1]+ vd*sin_theta\n",
        "  xd.append(xd_new)\n",
        "  yd.append(yd_new)\n",
        " \n",
        "  dist_cd = np.sqrt((xd[i]-xc[i])**2 + (yd[i]-yc[i])**2)\n",
        "  if dist_cd <= 10:\n",
        "    print(\"C shots D at time \",i)\n",
        "    countd +=1 \n",
        "  \n",
        "  dist_bc = np.sqrt((xb[i]-xc[i])**2 + (yb[i]-yc[i])**2)\n",
        "  if dist_bc <= 10:\n",
        "    print(\"B shots C at time \",i)\n",
        "    countc +=1 \n",
        "  \n",
        "  dist_ab = np.sqrt((xb[i]-xa[i])**2 + (yb[i]-ya[i])**2)\n",
        "  if dist_ab <= 10:\n",
        "    print(\"A shots B at time \",i)\n",
        "    countb +=1\n",
        "  \n",
        "  dist_da = np.sqrt((xd[i]-xa[i])**2 + (yd[i]-ya[i])**2)\n",
        "  if dist_da <= 10:\n",
        "    print(\"D shots A at time \",i)\n",
        "    counta +=1"
      ],
      "execution_count": null,
      "outputs": [
        {
          "output_type": "stream",
          "text": [
            "C shots D at time  2\n",
            "C shots D at time  3\n",
            "D shots A at time  3\n",
            "C shots D at time  4\n",
            "D shots A at time  4\n",
            "A shots B at time  5\n",
            "D shots A at time  5\n",
            "C shots D at time  6\n",
            "D shots A at time  6\n",
            "C shots D at time  8\n",
            "D shots A at time  8\n",
            "A shots B at time  9\n",
            "D shots A at time  9\n",
            "C shots D at time  10\n",
            "D shots A at time  10\n",
            "C shots D at time  12\n",
            "D shots A at time  12\n",
            "A shots B at time  13\n",
            "D shots A at time  13\n",
            "C shots D at time  14\n",
            "D shots A at time  14\n",
            "C shots D at time  16\n",
            "D shots A at time  16\n",
            "A shots B at time  17\n",
            "D shots A at time  17\n",
            "C shots D at time  18\n",
            "D shots A at time  18\n",
            "C shots D at time  20\n",
            "D shots A at time  20\n"
          ],
          "name": "stdout"
        }
      ]
    },
    {
      "cell_type": "code",
      "metadata": {
        "id": "8d8-J2MzSMr7",
        "colab_type": "code",
        "colab": {
          "base_uri": "https://localhost:8080/",
          "height": 86
        },
        "outputId": "558996a5-7fbf-46e6-c440-9b342e77c43f"
      },
      "source": [
        "print(\" D shots {} times by C\\n C shots {} times by B\\n B shots {} times by A\\n A shots {} times by D\".format(countd,countc,countb,counta))"
      ],
      "execution_count": null,
      "outputs": [
        {
          "output_type": "stream",
          "text": [
            " D shots 11 times by C\n",
            " C shots 0 times by B\n",
            " B shots 4 times by A\n",
            " A shots 14 times by D\n"
          ],
          "name": "stdout"
        }
      ]
    },
    {
      "cell_type": "code",
      "metadata": {
        "id": "W4P6VNE9Thai",
        "colab_type": "code",
        "cellView": "form",
        "colab": {}
      },
      "source": [
        "#@title PLOTs\n",
        "# plt.plot(xa, ya, color='green', linestyle='dashed' , linewidth = 3, \n",
        "#          marker='o', markerfacecolor='blue', markersize=12) \n",
        "# plt.plot(xd, yd, color='red', linestyle='dashed', linewidth = 3, \n",
        "#          marker='o', markerfacecolor='blue', markersize=12) \n",
        "# # giving a title to my graph \n",
        "# plt.title('A chasing D') \n",
        "  \n",
        "# # function to show the plot \n",
        "# plt.show() "
      ],
      "execution_count": null,
      "outputs": []
    },
    {
      "cell_type": "code",
      "metadata": {
        "id": "PI1qpz-mYCJR",
        "colab_type": "code",
        "colab": {
          "base_uri": "https://localhost:8080/",
          "height": 312
        },
        "outputId": "ad60471e-b295-4e50-825a-ea5cbdaa84a2"
      },
      "source": [
        "plt.plot(xd, yd, color='yellow', linestyle='dashed' , linewidth = 2, \n",
        "         marker='o', markerfacecolor='yellow', markersize=6) \n",
        "plt.plot(xc, yc, color='red', linestyle='dashed', linewidth = 2, \n",
        "         marker='o', markerfacecolor='red', markersize=6) \n",
        "plt.plot(xa, ya, color='green', linestyle='dashed', linewidth = 2, \n",
        "         marker='o', markerfacecolor='green', markersize=6) \n",
        "plt.plot(xb, yb, color='blue', linestyle='dashed', linewidth = 2, \n",
        "         marker='o', markerfacecolor='blue', markersize=6) \n",
        "# naming the x axis \n",
        "plt.xlabel('x - axis') \n",
        "# naming the y axis \n",
        "plt.ylabel('y - axis') \n",
        "  \n",
        "# giving a title to my graph \n",
        "plt.title('Round Chase Problem') "
      ],
      "execution_count": null,
      "outputs": [
        {
          "output_type": "execute_result",
          "data": {
            "text/plain": [
              "Text(0.5, 1.0, 'Round Chase Problem')"
            ]
          },
          "metadata": {
            "tags": []
          },
          "execution_count": 9
        },
        {
          "output_type": "display_data",
          "data": {
            "image/png": "[encoded data removed]",
            "text/plain": [
              "<Figure size 432x288 with 1 Axes>"
            ]
          },
          "metadata": {
            "tags": []
          }
        }
      ]
    }
  ]
}