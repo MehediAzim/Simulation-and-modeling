{
  "nbformat": 4,
  "nbformat_minor": 0,
  "metadata": {
    "colab": {
      "name": "Round Chase Problem-2.ipynb",
      "provenance": [],
      "collapsed_sections": [],
      "include_colab_link": true
    },
    "kernelspec": {
      "name": "python3",
      "display_name": "Python 3"
    }
  },
  "cells": [
    {
      "cell_type": "markdown",
      "metadata": {
        "id": "view-in-github",
        "colab_type": "text"
      },
      "source": [
        "<a href=\"https://colab.research.google.com/github/MehediAzim/Simulation-and-modeling/blob/master/Round_Chase_Problem_2.ipynb\" target=\"_parent\"><img src=\"https://colab.research.google.com/assets/colab-badge.svg\" alt=\"Open In Colab\"/></a>"
      ]
    },
    {
      "cell_type": "code",
      "metadata": {
        "id": "c6bWu6fgL_al",
        "colab_type": "code",
        "colab": {}
      },
      "source": [
        "import numpy as np\n",
        "import pandas as pd\n",
        "import matplotlib.pyplot as plt\n",
        "import math  "
      ],
      "execution_count": null,
      "outputs": []
    },
    {
      "cell_type": "code",
      "metadata": {
        "id": "HagUa2k3MUHk",
        "colab_type": "code",
        "colab": {}
      },
      "source": [
        "xa = [10]\n",
        "ya = [0]\n",
        "\n",
        "xb = [0]\n",
        "yb = [10]\n",
        "\n",
        "xc = [10]\n",
        "yc = [10]"
      ],
      "execution_count": null,
      "outputs": []
    },
    {
      "cell_type": "code",
      "metadata": {
        "id": "uMFcEaZiS7ZN",
        "colab_type": "code",
        "colab": {}
      },
      "source": [
        "#speed of each object\n",
        "va = 3\n",
        "vb = 5\n",
        "vc = 7\n",
        "\n",
        "countc = 0\n",
        "countb= 0\n",
        "counta = 0\n",
        "\n",
        "distance_ab = []\n",
        "distance_bc = []\n",
        "distance_ca = []"
      ],
      "execution_count": null,
      "outputs": []
    },
    {
      "cell_type": "code",
      "metadata": {
        "id": "VCMpBXHdQFZr",
        "colab_type": "code",
        "colab": {}
      },
      "source": [
        "dist_ca = np.sqrt((xc[0]-xa[0])**2 + (yc[0]-ya[0])**2)\n",
        "dist_ab = np.sqrt((xa[0]-xb[0])**2 + (ya[0]-yb[0])**2)\n",
        "dist_bc = np.sqrt((xb[0]-xc[0])**2 + (yb[0]-yc[0])**2)\n",
        "\n",
        "distance_ab.append(dist_ab)\n",
        "distance_bc.append(dist_bc)\n",
        "distance_ca.append(dist_ca)\n"
      ],
      "execution_count": null,
      "outputs": []
    },
    {
      "cell_type": "code",
      "metadata": {
        "id": "aAqd7-PSZccI",
        "colab_type": "code",
        "colab": {
          "base_uri": "https://localhost:8080/",
          "height": 34
        },
        "outputId": "e8947137-8783-4b6c-c464-52e4f871e9ea"
      },
      "source": [
        "distance_ab"
      ],
      "execution_count": null,
      "outputs": [
        {
          "output_type": "execute_result",
          "data": {
            "text/plain": [
              "[14.142135623730951]"
            ]
          },
          "metadata": {
            "tags": []
          },
          "execution_count": 153
        }
      ]
    },
    {
      "cell_type": "code",
      "metadata": {
        "id": "_VD9bK8QPMDq",
        "colab_type": "code",
        "colab": {}
      },
      "source": [
        "for i in range(1,6):\n",
        "  \n",
        "  #B shoting C\n",
        "  sin_theta = (yc[i-1]-yb[i-1])/dist_bc\n",
        "  cos_theta =  (xc[i-1]-xb[i-1])/dist_bc\n",
        "  xb_new = xb[i-1]+ vb*cos_theta\n",
        "  yb_new = yb[i-1]+ vb*sin_theta\n",
        "  xb.append(xb_new)\n",
        "  yb.append(yb_new)\n",
        "  \n",
        "  #C shoting A\n",
        "  sin_theta = (ya[i-1]-yc[i-1])/dist_ca\n",
        "  cos_theta =  (xa[i-1]-xc[i-1])/dist_ca\n",
        "  xc_new = xc[i-1]+ vc*cos_theta\n",
        "  yc_new = yc[i-1]+ vc*sin_theta\n",
        "  xc.append(xc_new)\n",
        "  yc.append(yc_new)\n",
        "\n",
        "  #A shoting B\n",
        "  sin_theta = (yb[i-1]-ya[i-1])/dist_ab\n",
        "  cos_theta =  (xb[i-1]-xa[i-1])/dist_ab\n",
        "  xa_new = xa[i-1]+ va*cos_theta\n",
        "  ya_new = ya[i-1]+ va*sin_theta\n",
        "  xa.append(xa_new)\n",
        "  ya.append(ya_new)\n",
        "  \n",
        "\n",
        "\n",
        " \n",
        "  dist_ca = np.sqrt((xa[i]-xc[i])**2 + (ya[i]-yc[i])**2)\n",
        "  distance_ca.append(dist_ca)\n",
        "  if dist_ca <= 8:\n",
        "    # print(\"C shots A at time \",i)\n",
        "    counta +=1\n",
        "  \n",
        "  dist_ab = np.sqrt((xb[i]-xa[i])**2 + (yb[i]-ya[i])**2)\n",
        "  distance_ab.append(dist_ab)\n",
        "  if dist_ab <= 8:\n",
        "    # print(\"A shots B at time \",i)\n",
        "    countb +=1\n",
        "\n",
        "  dist_bc = np.sqrt((xb[i]-xc[i])**2 + (yb[i]-yc[i])**2)\n",
        "  distance_bc.append(dist_bc)\n",
        "  if dist_bc <= 8:\n",
        "    # print(\"B shots C at time \",i)\n",
        "    countc +=1 \n",
        "  \n"
      ],
      "execution_count": null,
      "outputs": []
    },
    {
      "cell_type": "code",
      "metadata": {
        "id": "hy9zoRTfahDz",
        "colab_type": "code",
        "colab": {
          "base_uri": "https://localhost:8080/",
          "height": 121
        },
        "outputId": "884a2d0c-e136-407c-8836-fe6811569b24"
      },
      "source": [
        "distance_ca"
      ],
      "execution_count": null,
      "outputs": [
        {
          "output_type": "execute_result",
          "data": {
            "text/plain": [
              "[10.0,\n",
              " 2.296100594190538,\n",
              " 5.685312067974768,\n",
              " 1.7287629899138894,\n",
              " 8.203914151954772,\n",
              " 2.011175778303979]"
            ]
          },
          "metadata": {
            "tags": []
          },
          "execution_count": 155
        }
      ]
    },
    {
      "cell_type": "code",
      "metadata": {
        "id": "8d8-J2MzSMr7",
        "colab_type": "code",
        "colab": {
          "base_uri": "https://localhost:8080/",
          "height": 86
        },
        "outputId": "4c3be530-2dc4-4902-a53b-fd9ff26117aa"
      },
      "source": [
        "print(\" A shots {} times by C\\n C shots {} times by B\\n B shots {} times by A\\n\".format(counta,countc,countb))"
      ],
      "execution_count": null,
      "outputs": [
        {
          "output_type": "stream",
          "text": [
            " A shots 4 times by C\n",
            " C shots 4 times by B\n",
            " B shots 4 times by A\n",
            "\n"
          ],
          "name": "stdout"
        }
      ]
    },
    {
      "cell_type": "code",
      "metadata": {
        "id": "6pb9NogDVS0A",
        "colab_type": "code",
        "colab": {
          "base_uri": "https://localhost:8080/",
          "height": 34
        },
        "outputId": "edae5952-f178-4c6b-e0f9-01a974b5ba0b"
      },
      "source": [
        "total_shot = counta + countb + countc\n",
        "total_shot"
      ],
      "execution_count": null,
      "outputs": [
        {
          "output_type": "execute_result",
          "data": {
            "text/plain": [
              "12"
            ]
          },
          "metadata": {
            "tags": []
          },
          "execution_count": 157
        }
      ]
    },
    {
      "cell_type": "code",
      "metadata": {
        "id": "PI1qpz-mYCJR",
        "colab_type": "code",
        "colab": {
          "base_uri": "https://localhost:8080/",
          "height": 312
        },
        "outputId": "cca876a1-9f1d-4487-ea6c-afacdde14169"
      },
      "source": [
        "plt.plot(xc, yc, color='red', linestyle='dashed', linewidth = 2, \n",
        "         marker='o', markerfacecolor='red', markersize=6) \n",
        "plt.plot(xa, ya, color='green', linestyle='dashed', linewidth = 2, \n",
        "         marker='o', markerfacecolor='green', markersize=6) \n",
        "plt.plot(xb, yb, color='blue', linestyle='dashed', linewidth = 2, \n",
        "         marker='o', markerfacecolor='blue', markersize=6) \n",
        "# naming the x axis \n",
        "plt.xlabel('x - axis') \n",
        "# naming the y axis \n",
        "plt.ylabel('y - axis') \n",
        "  \n",
        "# giving a title to my graph \n",
        "plt.title('Round Chase Problem') "
      ],
      "execution_count": null,
      "outputs": [
        {
          "output_type": "execute_result",
          "data": {
            "text/plain": [
              "Text(0.5, 1.0, 'Round Chase Problem')"
            ]
          },
          "metadata": {
            "tags": []
          },
          "execution_count": 158
        },
        {
          "output_type": "display_data",
          "data": {
            "image/png": "[encoded data removed]",
            "text/plain": [
              "<Figure size 432x288 with 1 Axes>"
            ]
          },
          "metadata": {
            "tags": []
          }
        }
      ]
    }
  ]
}