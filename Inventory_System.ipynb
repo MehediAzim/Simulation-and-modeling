{
  "nbformat": 4,
  "nbformat_minor": 0,
  "metadata": {
    "colab": {
      "name": "Inventory System.ipynb",
      "provenance": [],
      "authorship_tag": "ABX9TyNDYcil7Ms4TPCinnUPKYFm",
      "include_colab_link": true
    },
    "kernelspec": {
      "name": "python3",
      "display_name": "Python 3"
    }
  },
  "cells": [
    {
      "cell_type": "markdown",
      "metadata": {
        "id": "view-in-github",
        "colab_type": "text"
      },
      "source": [
        "<a href=\"https://colab.research.google.com/github/MehediAzim/Simulation-and-modeling/blob/master/Inventory_System.ipynb\" target=\"_parent\"><img src=\"https://colab.research.google.com/assets/colab-badge.svg\" alt=\"Open In Colab\"/></a>"
      ]
    },
    {
      "cell_type": "code",
      "metadata": {
        "id": "jVwbt6AwUram",
        "colab_type": "code",
        "colab": {}
      },
      "source": [
        "import numpy as np\n",
        "import pandas as pd\n",
        "import matplotlib.pyplot as plt\n",
        "import math  \n",
        "np.random.seed(1)"
      ],
      "execution_count": null,
      "outputs": []
    },
    {
      "cell_type": "markdown",
      "metadata": {
        "id": "oDnunBT_t-6H",
        "colab_type": "text"
      },
      "source": [
        "#Initialization"
      ]
    },
    {
      "cell_type": "code",
      "metadata": {
        "id": "qDlP-dgMd88c",
        "colab_type": "code",
        "colab": {
          "base_uri": "https://localhost:8080/",
          "height": 87
        },
        "outputId": "e925061f-2ead-4754-f397-8653639ef550"
      },
      "source": [
        "print(\"Enter Maximum capacity\")\n",
        "M = input()\n",
        "print(\"Enter Review Period\")\n",
        "N = input()"
      ],
      "execution_count": null,
      "outputs": [
        {
          "output_type": "stream",
          "text": [
            "Enter Maximum capacity\n",
            "11\n",
            "Enter Review Period\n",
            "5\n"
          ],
          "name": "stdout"
        }
      ]
    },
    {
      "cell_type": "code",
      "metadata": {
        "id": "UDHPdj2PVQFN",
        "colab_type": "code",
        "colab": {}
      },
      "source": [
        "m = int(M)   #maximum capacity of inventory \n",
        "n = int(N)    #review period in days \n",
        "\n",
        "cycle_num = 10\n",
        "\n",
        "#Initialization Day - 0 \n",
        "begining_inventory = 3  \n",
        "ending_inventory = 0\n",
        "shortage_quantity = 0 \n",
        "order_quantity = 8\n",
        "days_until_order_arrives = 2\n",
        "\n",
        "demands=  np.random.choice(a = [0,1,2,3,4] , size = cycle_num * n,p = [0.10,0.25,0.35,0.21,0.09]) #randomly  np.random.choice(a=[],size=100,p=[])\n",
        "demands = demands.tolist()\n",
        "lead_time_days = np.random.choice(a = [0,1,2] , size = cycle_num ,p = [0.6,0.3,0.1]) # a is list of outcomes, p is list of their probabilities\n",
        "lead_time_days = lead_time_days.tolist()\n"
      ],
      "execution_count": null,
      "outputs": []
    },
    {
      "cell_type": "code",
      "metadata": {
        "id": "lH8OnwrEtXcV",
        "colab_type": "code",
        "colab": {
          "base_uri": "https://localhost:8080/",
          "height": 52
        },
        "outputId": "bfc3a725-e533-453c-d545-db16d79f7a73"
      },
      "source": [
        "print(len(demands),demands)\n",
        "print(len(lead_time_days),lead_time_days)"
      ],
      "execution_count": null,
      "outputs": [
        {
          "output_type": "stream",
          "text": [
            "50 [2, 3, 0, 1, 1, 0, 1, 1, 2, 2, 2, 2, 1, 3, 0, 2, 2, 2, 1, 1, 3, 4, 1, 2, 3, 3, 0, 0, 1, 3, 0, 2, 4, 2, 2, 1, 2, 3, 0, 3, 4, 3, 1, 3, 1, 2, 3, 1, 1, 1]\n",
            "10 [0, 1, 0, 0, 0, 0, 0, 0, 0, 1]\n"
          ],
          "name": "stdout"
        }
      ]
    },
    {
      "cell_type": "markdown",
      "metadata": {
        "id": "Oocv6iUvkUtD",
        "colab_type": "text"
      },
      "source": [
        "#Inventory System"
      ]
    },
    {
      "cell_type": "code",
      "metadata": {
        "id": "LrSF7vCWU-dD",
        "colab_type": "code",
        "colab": {
          "base_uri": "https://localhost:8080/",
          "height": 1000
        },
        "outputId": "05bc3bfa-159d-489b-9338-163ada2e4242"
      },
      "source": [
        "ending_inventories = []\n",
        "shortage_days = 0\n",
        "print(\"\\t\\tBegining_inventory\\tDemand\\t\\tEnding_inventory\\tShortage_quantity\\tOrder_quantity\\tdays_until_order_arrives\")\n",
        "\n",
        "\n",
        "for cycle in range(1,cycle_num+1):\n",
        "  print(\"\\nCycle No:\" +str(cycle),end = \"\")\n",
        "  print(\"---------------------------------------------------------------------------------------------------------------------------------------------------------\")\n",
        "  \n",
        "  for day in range(1, n+1):\n",
        "    #refill begining inventory after days_until_order_arrives = 0\n",
        "    if(days_until_order_arrives>= 0):\n",
        "      days_until_order_arrives -= 1\n",
        "\n",
        "    if(days_until_order_arrives < 0):\n",
        "      begining_inventory += order_quantity\n",
        "      order_quantity = 0\n",
        "\n",
        "    print(\" Day No: \"+str(day),end = \"\")\n",
        "    demand = demands.pop(0)\n",
        "    total_demand= demand+shortage_quantity\n",
        "\n",
        "    if total_demand>begining_inventory:\n",
        "      ending_inventory = 0\n",
        "      shortage_quantity = total_demand - begining_inventory\n",
        "      shortage_days += 1 \n",
        "    else:\n",
        "      ending_inventory = begining_inventory - total_demand\n",
        "      shortage_quantity = 0\n",
        "    print(\"\\t\"+str(begining_inventory),end = \"\")\n",
        "\n",
        "    begining_inventory = ending_inventory\n",
        "\n",
        "    ending_inventories.append(ending_inventory)\n",
        "\n",
        "\n",
        "    if (day == n):\n",
        "      lead_time = lead_time_days.pop(0)\n",
        "      days_until_order_arrives = lead_time\n",
        "      order_quantity = m - ending_inventory\n",
        "    \n",
        "    print(\"\\t\\t\\t\"+str(demand)+\"\\t\\t\"+str(ending_inventory)+\"\\t\\t\\t\"+str(shortage_quantity),end = \"\")\n",
        "    if (day == n):\n",
        "      print(\" \\t\\t\\t\"+str(order_quantity),end = \"\")\n",
        "    else:\n",
        "      print(\" \\t\\t\\t-\",end = \"\")\n",
        "    \n",
        "    if(days_until_order_arrives == -1):\n",
        "      print(\" \\t\\t\\t -\") \n",
        "    else:\n",
        "      print(\"\\t\\t\\t \"+str(days_until_order_arrives))\n",
        "  #end inner for loop \n",
        "  \n",
        "#end outer for loop"
      ],
      "execution_count": null,
      "outputs": [
        {
          "output_type": "stream",
          "text": [
            "\t\tBegining_inventory\tDemand\t\tEnding_inventory\tShortage_quantity\tOrder_quantity\tdays_until_order_arrives\n",
            "\n",
            "Cycle No:1---------------------------------------------------------------------------------------------------------------------------------------------------------\n",
            " Day No: 1\t3\t\t\t2\t\t1\t\t\t0 \t\t\t-\t\t\t 1\n",
            " Day No: 2\t1\t\t\t3\t\t0\t\t\t2 \t\t\t-\t\t\t 0\n",
            " Day No: 3\t8\t\t\t0\t\t6\t\t\t0 \t\t\t- \t\t\t -\n",
            " Day No: 4\t6\t\t\t1\t\t5\t\t\t0 \t\t\t- \t\t\t -\n",
            " Day No: 5\t5\t\t\t1\t\t4\t\t\t0 \t\t\t7\t\t\t 0\n",
            "\n",
            "Cycle No:2---------------------------------------------------------------------------------------------------------------------------------------------------------\n",
            " Day No: 1\t11\t\t\t0\t\t11\t\t\t0 \t\t\t- \t\t\t -\n",
            " Day No: 2\t11\t\t\t1\t\t10\t\t\t0 \t\t\t- \t\t\t -\n",
            " Day No: 3\t10\t\t\t1\t\t9\t\t\t0 \t\t\t- \t\t\t -\n",
            " Day No: 4\t9\t\t\t2\t\t7\t\t\t0 \t\t\t- \t\t\t -\n",
            " Day No: 5\t7\t\t\t2\t\t5\t\t\t0 \t\t\t6\t\t\t 1\n",
            "\n",
            "Cycle No:3---------------------------------------------------------------------------------------------------------------------------------------------------------\n",
            " Day No: 1\t5\t\t\t2\t\t3\t\t\t0 \t\t\t-\t\t\t 0\n",
            " Day No: 2\t9\t\t\t2\t\t7\t\t\t0 \t\t\t- \t\t\t -\n",
            " Day No: 3\t7\t\t\t1\t\t6\t\t\t0 \t\t\t- \t\t\t -\n",
            " Day No: 4\t6\t\t\t3\t\t3\t\t\t0 \t\t\t- \t\t\t -\n",
            " Day No: 5\t3\t\t\t0\t\t3\t\t\t0 \t\t\t8\t\t\t 0\n",
            "\n",
            "Cycle No:4---------------------------------------------------------------------------------------------------------------------------------------------------------\n",
            " Day No: 1\t11\t\t\t2\t\t9\t\t\t0 \t\t\t- \t\t\t -\n",
            " Day No: 2\t9\t\t\t2\t\t7\t\t\t0 \t\t\t- \t\t\t -\n",
            " Day No: 3\t7\t\t\t2\t\t5\t\t\t0 \t\t\t- \t\t\t -\n",
            " Day No: 4\t5\t\t\t1\t\t4\t\t\t0 \t\t\t- \t\t\t -\n",
            " Day No: 5\t4\t\t\t1\t\t3\t\t\t0 \t\t\t8\t\t\t 0\n",
            "\n",
            "Cycle No:5---------------------------------------------------------------------------------------------------------------------------------------------------------\n",
            " Day No: 1\t11\t\t\t3\t\t8\t\t\t0 \t\t\t- \t\t\t -\n",
            " Day No: 2\t8\t\t\t4\t\t4\t\t\t0 \t\t\t- \t\t\t -\n",
            " Day No: 3\t4\t\t\t1\t\t3\t\t\t0 \t\t\t- \t\t\t -\n",
            " Day No: 4\t3\t\t\t2\t\t1\t\t\t0 \t\t\t- \t\t\t -\n",
            " Day No: 5\t1\t\t\t3\t\t0\t\t\t2 \t\t\t11\t\t\t 0\n",
            "\n",
            "Cycle No:6---------------------------------------------------------------------------------------------------------------------------------------------------------\n",
            " Day No: 1\t11\t\t\t3\t\t6\t\t\t0 \t\t\t- \t\t\t -\n",
            " Day No: 2\t6\t\t\t0\t\t6\t\t\t0 \t\t\t- \t\t\t -\n",
            " Day No: 3\t6\t\t\t0\t\t6\t\t\t0 \t\t\t- \t\t\t -\n",
            " Day No: 4\t6\t\t\t1\t\t5\t\t\t0 \t\t\t- \t\t\t -\n",
            " Day No: 5\t5\t\t\t3\t\t2\t\t\t0 \t\t\t9\t\t\t 0\n",
            "\n",
            "Cycle No:7---------------------------------------------------------------------------------------------------------------------------------------------------------\n",
            " Day No: 1\t11\t\t\t0\t\t11\t\t\t0 \t\t\t- \t\t\t -\n",
            " Day No: 2\t11\t\t\t2\t\t9\t\t\t0 \t\t\t- \t\t\t -\n",
            " Day No: 3\t9\t\t\t4\t\t5\t\t\t0 \t\t\t- \t\t\t -\n",
            " Day No: 4\t5\t\t\t2\t\t3\t\t\t0 \t\t\t- \t\t\t -\n",
            " Day No: 5\t3\t\t\t2\t\t1\t\t\t0 \t\t\t10\t\t\t 0\n",
            "\n",
            "Cycle No:8---------------------------------------------------------------------------------------------------------------------------------------------------------\n",
            " Day No: 1\t11\t\t\t1\t\t10\t\t\t0 \t\t\t- \t\t\t -\n",
            " Day No: 2\t10\t\t\t2\t\t8\t\t\t0 \t\t\t- \t\t\t -\n",
            " Day No: 3\t8\t\t\t3\t\t5\t\t\t0 \t\t\t- \t\t\t -\n",
            " Day No: 4\t5\t\t\t0\t\t5\t\t\t0 \t\t\t- \t\t\t -\n",
            " Day No: 5\t5\t\t\t3\t\t2\t\t\t0 \t\t\t9\t\t\t 0\n",
            "\n",
            "Cycle No:9---------------------------------------------------------------------------------------------------------------------------------------------------------\n",
            " Day No: 1\t11\t\t\t4\t\t7\t\t\t0 \t\t\t- \t\t\t -\n",
            " Day No: 2\t7\t\t\t3\t\t4\t\t\t0 \t\t\t- \t\t\t -\n",
            " Day No: 3\t4\t\t\t1\t\t3\t\t\t0 \t\t\t- \t\t\t -\n",
            " Day No: 4\t3\t\t\t3\t\t0\t\t\t0 \t\t\t- \t\t\t -\n",
            " Day No: 5\t0\t\t\t1\t\t0\t\t\t1 \t\t\t11\t\t\t 0\n",
            "\n",
            "Cycle No:10---------------------------------------------------------------------------------------------------------------------------------------------------------\n",
            " Day No: 1\t11\t\t\t2\t\t8\t\t\t0 \t\t\t- \t\t\t -\n",
            " Day No: 2\t8\t\t\t3\t\t5\t\t\t0 \t\t\t- \t\t\t -\n",
            " Day No: 3\t5\t\t\t1\t\t4\t\t\t0 \t\t\t- \t\t\t -\n",
            " Day No: 4\t4\t\t\t1\t\t3\t\t\t0 \t\t\t- \t\t\t -\n",
            " Day No: 5\t3\t\t\t1\t\t2\t\t\t0 \t\t\t9\t\t\t 1\n"
          ],
          "name": "stdout"
        }
      ]
    },
    {
      "cell_type": "code",
      "metadata": {
        "id": "8keZ0vWEQXmb",
        "colab_type": "code",
        "colab": {
          "base_uri": "https://localhost:8080/",
          "height": 52
        },
        "outputId": "449d8461-fdee-42b0-d8e3-cb8198cb64fb"
      },
      "source": [
        "print(\"Average Ending Inventories : \", sum(ending_inventories)/len(ending_inventories))\n",
        "print(\"Shortage occurs in \"+str(shortage_days)+\" days\")"
      ],
      "execution_count": null,
      "outputs": [
        {
          "output_type": "stream",
          "text": [
            "Average Ending Inventories :  4.88\n",
            "Shortage occurs in 3 days\n"
          ],
          "name": "stdout"
        }
      ]
    },
    {
      "cell_type": "markdown",
      "metadata": {
        "id": "jMcdCs0oU4Lo",
        "colab_type": "text"
      },
      "source": [
        "#Visualization"
      ]
    },
    {
      "cell_type": "code",
      "metadata": {
        "id": "Vbx9Bkw9U5EE",
        "colab_type": "code",
        "colab": {
          "base_uri": "https://localhost:8080/",
          "height": 404
        },
        "outputId": "e8257534-cf87-46a0-8562-b7983b433df9"
      },
      "source": [
        "plt.figure(figsize=(12,6))\n",
        "days = range(1,cycle*n+1)\n",
        "plt.bar(days,ending_inventories) \n",
        "plt.xlabel('Day') \n",
        "plt.ylabel('Ending Inventory') \n",
        "plt.title(\"Inventory_level vs day graph \") \n",
        "plt.show() "
      ],
      "execution_count": null,
      "outputs": [
        {
          "output_type": "display_data",
          "data": {
            "image/png": "[encoded data removed]",
            "text/plain": [
              "<Figure size 864x432 with 1 Axes>"
            ]
          },
          "metadata": {
            "tags": [],
            "needs_background": "light"
          }
        }
      ]
    }
  ]
}