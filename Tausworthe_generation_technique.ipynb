{
  "nbformat": 4,
  "nbformat_minor": 0,
  "metadata": {
    "colab": {
      "name": "Tausworthe generation technique.ipynb",
      "provenance": [],
      "include_colab_link": true
    },
    "kernelspec": {
      "name": "python3",
      "display_name": "Python 3"
    }
  },
  "cells": [
    {
      "cell_type": "markdown",
      "metadata": {
        "id": "view-in-github",
        "colab_type": "text"
      },
      "source": [
        "<a href=\"https://colab.research.google.com/github/MehediAzim/Simulation-and-modeling/blob/master/Tausworthe_generation_technique.ipynb\" target=\"_parent\"><img src=\"https://colab.research.google.com/assets/colab-badge.svg\" alt=\"Open In Colab\"/></a>"
      ]
    },
    {
      "cell_type": "code",
      "metadata": {
        "id": "Kw3P6xXyy8-K",
        "colab_type": "code",
        "colab": {}
      },
      "source": [
        "import numpy as np\n",
        "import pandas as pd\n",
        "import matplotlib.pyplot as plt\n",
        "import math  "
      ],
      "execution_count": null,
      "outputs": []
    },
    {
      "cell_type": "code",
      "metadata": {
        "id": "RaklVZVM3q2j",
        "colab_type": "code",
        "colab": {}
      },
      "source": [
        "n = 1000 #Number of random numbers to generate"
      ],
      "execution_count": null,
      "outputs": []
    },
    {
      "cell_type": "code",
      "metadata": {
        "id": "XByN-mtH0cks",
        "colab_type": "code",
        "colab": {}
      },
      "source": [
        "r = 3\n",
        "q = 5\n",
        "l = 4\n",
        "b = [1, 1, 1, 1, 1]\n",
        "a = 2**l\n",
        "numofbit = n*l #number of bit need to generate"
      ],
      "execution_count": null,
      "outputs": []
    },
    {
      "cell_type": "markdown",
      "metadata": {
        "id": "-3dl5VHDSi9F",
        "colab_type": "text"
      },
      "source": [
        "#Generating bit sequence"
      ]
    },
    {
      "cell_type": "code",
      "metadata": {
        "id": "kV4DvvgX1lic",
        "colab_type": "code",
        "colab": {
          "base_uri": "https://localhost:8080/",
          "height": 54
        },
        "outputId": "2b1c0050-4fb2-4a34-8595-99c08562ee53"
      },
      "source": [
        "for i in range(5,numofbit):\n",
        "  b.append(b[i-r]^b[i-q])\n",
        "print(b)"
      ],
      "execution_count": null,
      "outputs": [
        {
          "output_type": "stream",
          "text": [
            "[1, 1, 1, 1, 1, 0, 0, 0, 1, 1, 0, 1, 1, 1, 0, 1, 0, 1, 0, 0, 0, 0, 1, 0, 0, 1, 0, 1, 1, 0, 0, 1, 1, 1, 1, 1, 0, 0, 0, 1, 1, 0, 1, 1, 1, 0, 1, 0, 1, 0, 0, 0, 0, 1, 0, 0, 1, 0, 1, 1, 0, 0, 1, 1, 1, 1, 1, 0, 0, 0, 1, 1, 0, 1, 1, 1, 0, 1, 0, 1, 0, 0, 0, 0, 1, 0, 0, 1, 0, 1, 1, 0, 0, 1, 1, 1, 1, 1, 0, 0, 0, 1, 1, 0, 1, 1, 1, 0, 1, 0, 1, 0, 0, 0, 0, 1, 0, 0, 1, 0, 1, 1, 0, 0, 1, 1, 1, 1, 1, 0, 0, 0, 1, 1, 0, 1, 1, 1, 0, 1, 0, 1, 0, 0, 0, 0, 1, 0, 0, 1, 0, 1, 1, 0, 0, 1, 1, 1, 1, 1, 0, 0, 0, 1, 1, 0, 1, 1, 1, 0, 1, 0, 1, 0, 0, 0, 0, 1, 0, 0, 1, 0, 1, 1, 0, 0, 1, 1, 1, 1, 1, 0, 0, 0, 1, 1, 0, 1, 1, 1, 0, 1, 0, 1, 0, 0, 0, 0, 1, 0, 0, 1, 0, 1, 1, 0, 0, 1, 1, 1, 1, 1, 0, 0, 0, 1, 1, 0, 1, 1, 1, 0, 1, 0, 1, 0, 0, 0, 0, 1, 0, 0, 1, 0, 1, 1, 0, 0, 1, 1, 1, 1, 1, 0, 0, 0, 1, 1, 0, 1, 1, 1, 0, 1, 0, 1, 0, 0, 0, 0, 1, 0, 0, 1, 0, 1, 1, 0, 0, 1, 1, 1, 1, 1, 0, 0, 0, 1, 1, 0, 1, 1, 1, 0, 1, 0, 1, 0, 0, 0, 0, 1, 0, 0, 1, 0, 1, 1, 0, 0, 1, 1, 1, 1, 1, 0, 0, 0, 1, 1, 0, 1, 1, 1, 0, 1, 0, 1, 0, 0, 0, 0, 1, 0, 0, 1, 0, 1, 1, 0, 0, 1, 1, 1, 1, 1, 0, 0, 0, 1, 1, 0, 1, 1, 1, 0, 1, 0, 1, 0, 0, 0, 0, 1, 0, 0, 1, 0, 1, 1, 0, 0, 1, 1, 1, 1, 1, 0, 0, 0, 1, 1, 0, 1, 1, 1, 0, 1, 0, 1, 0, 0, 0, 0, 1, 0, 0, 1, 0, 1, 1, 0, 0, 1, 1, 1, 1, 1, 0, 0, 0, 1, 1, 0, 1, 1, 1, 0, 1, 0, 1, 0, 0, 0, 0, 1, 0, 0, 1, 0, 1, 1, 0, 0, 1, 1, 1, 1, 1, 0, 0, 0, 1, 1, 0, 1, 1, 1, 0, 1, 0, 1, 0, 0, 0, 0, 1, 0, 0, 1, 0, 1, 1, 0, 0, 1, 1, 1, 1, 1, 0, 0, 0, 1, 1, 0, 1, 1, 1, 0, 1, 0, 1, 0, 0, 0, 0, 1, 0, 0, 1, 0, 1, 1, 0, 0, 1, 1, 1, 1, 1, 0, 0, 0, 1, 1, 0, 1, 1, 1, 0, 1, 0, 1, 0, 0, 0, 0, 1, 0, 0, 1, 0, 1, 1, 0, 0, 1, 1, 1, 1, 1, 0, 0, 0, 1, 1, 0, 1, 1, 1, 0, 1, 0, 1, 0, 0, 0, 0, 1, 0, 0, 1, 0, 1, 1, 0, 0, 1, 1, 1, 1, 1, 0, 0, 0, 1, 1, 0, 1, 1, 1, 0, 1, 0, 1, 0, 0, 0, 0, 1, 0, 0, 1, 0, 1, 1, 0, 0, 1, 1, 1, 1, 1, 0, 0, 0, 1, 1, 0, 1, 1, 1, 0, 1, 0, 1, 0, 0, 0, 0, 1, 0, 0, 1, 0, 1, 1, 0, 0, 1, 1, 1, 1, 1, 0, 0, 0, 1, 1, 0, 1, 1, 1, 0, 1, 0, 1, 0, 0, 0, 0, 1, 0, 0, 1, 0, 1, 1, 0, 0, 1, 1, 1, 1, 1, 0, 0, 0, 1, 1, 0, 1, 1, 1, 0, 1, 0, 1, 0, 0, 0, 0, 1, 0, 0, 1, 0, 1, 1, 0, 0, 1, 1, 1, 1, 1, 0, 0, 0, 1, 1, 0, 1, 1, 1, 0, 1, 0, 1, 0, 0, 0, 0, 1, 0, 0, 1, 0, 1, 1, 0, 0, 1, 1, 1, 1, 1, 0, 0, 0, 1, 1, 0, 1, 1, 1, 0, 1, 0, 1, 0, 0, 0, 0, 1, 0, 0, 1, 0, 1, 1, 0, 0, 1, 1, 1, 1, 1, 0, 0, 0, 1, 1, 0, 1, 1, 1, 0, 1, 0, 1, 0, 0, 0, 0, 1, 0, 0, 1, 0, 1, 1, 0, 0, 1, 1, 1, 1, 1, 0, 0, 0, 1, 1, 0, 1, 1, 1, 0, 1, 0, 1, 0, 0, 0, 0, 1, 0, 0, 1, 0, 1, 1, 0, 0, 1, 1, 1, 1, 1, 0, 0, 0, 1, 1, 0, 1, 1, 1, 0, 1, 0, 1, 0, 0, 0, 0, 1, 0, 0, 1, 0, 1, 1, 0, 0, 1, 1, 1, 1, 1, 0, 0, 0, 1, 1, 0, 1, 1, 1, 0, 1, 0, 1, 0, 0, 0, 0, 1, 0, 0, 1, 0, 1, 1, 0, 0, 1, 1, 1, 1, 1, 0, 0, 0, 1, 1, 0, 1, 1, 1, 0, 1, 0, 1, 0, 0, 0, 0, 1, 0, 0, 1, 0, 1, 1, 0, 0, 1, 1, 1, 1, 1, 0, 0, 0, 1, 1, 0, 1, 1, 1, 0, 1, 0, 1, 0, 0, 0, 0, 1, 0, 0, 1, 0, 1, 1, 0, 0, 1, 1, 1, 1, 1, 0, 0, 0, 1, 1, 0, 1, 1, 1, 0, 1, 0, 1, 0, 0, 0, 0, 1, 0, 0, 1, 0, 1, 1, 0, 0, 1, 1, 1, 1, 1, 0, 0, 0, 1, 1, 0, 1, 1, 1, 0, 1, 0, 1, 0, 0, 0, 0, 1, 0, 0, 1, 0, 1, 1, 0, 0, 1, 1, 1, 1, 1, 0, 0, 0, 1, 1, 0, 1, 1, 1, 0, 1, 0, 1, 0, 0, 0, 0, 1, 0, 0, 1, 0, 1, 1, 0, 0, 1, 1, 1, 1, 1, 0, 0, 0, 1, 1, 0, 1, 1, 1, 0, 1, 0, 1, 0, 0, 0, 0, 1, 0, 0, 1, 0, 1, 1, 0, 0, 1, 1, 1, 1, 1, 0, 0, 0, 1, 1, 0, 1, 1, 1, 0, 1, 0, 1, 0, 0, 0, 0, 1, 0, 0, 1, 0, 1, 1, 0, 0, 1, 1, 1, 1, 1, 0, 0, 0, 1, 1, 0, 1, 1, 1, 0, 1, 0, 1, 0, 0, 0, 0, 1, 0, 0, 1, 0, 1, 1, 0, 0, 1, 1, 1, 1, 1, 0, 0, 0, 1, 1, 0, 1, 1, 1, 0, 1, 0, 1, 0, 0, 0, 0, 1, 0, 0, 1, 0, 1, 1, 0, 0, 1, 1, 1, 1, 1, 0, 0, 0, 1, 1, 0, 1, 1, 1, 0, 1, 0, 1, 0, 0, 0, 0, 1, 0, 0, 1, 0, 1, 1, 0, 0, 1, 1, 1, 1, 1, 0, 0, 0, 1, 1, 0, 1, 1, 1, 0, 1, 0, 1, 0, 0, 0, 0, 1, 0, 0, 1, 0, 1, 1, 0, 0, 1, 1, 1, 1, 1, 0, 0, 0, 1, 1, 0, 1, 1, 1, 0, 1, 0, 1, 0, 0, 0, 0, 1, 0, 0, 1, 0, 1, 1, 0, 0, 1, 1, 1, 1, 1, 0, 0, 0, 1, 1, 0, 1, 1, 1, 0, 1, 0, 1, 0, 0, 0, 0, 1, 0, 0, 1, 0, 1, 1, 0, 0, 1, 1, 1, 1, 1, 0, 0, 0, 1, 1, 0, 1, 1, 1, 0, 1, 0, 1, 0, 0, 0, 0, 1, 0, 0, 1, 0, 1, 1, 0, 0, 1, 1, 1, 1, 1, 0, 0, 0, 1, 1, 0, 1, 1, 1, 0, 1, 0, 1, 0, 0, 0, 0, 1, 0, 0, 1, 0, 1, 1, 0, 0, 1, 1, 1, 1, 1, 0, 0, 0, 1, 1, 0, 1, 1, 1, 0, 1, 0, 1, 0, 0, 0, 0, 1, 0, 0, 1, 0, 1, 1, 0, 0, 1, 1, 1, 1, 1, 0, 0, 0, 1, 1, 0, 1, 1, 1, 0, 1, 0, 1, 0, 0, 0, 0, 1, 0, 0, 1, 0, 1, 1, 0, 0, 1, 1, 1, 1, 1, 0, 0, 0, 1, 1, 0, 1, 1, 1, 0, 1, 0, 1, 0, 0, 0, 0, 1, 0, 0, 1, 0, 1, 1, 0, 0, 1, 1, 1, 1, 1, 0, 0, 0, 1, 1, 0, 1, 1, 1, 0, 1, 0, 1, 0, 0, 0, 0, 1, 0, 0, 1, 0, 1, 1, 0, 0, 1, 1, 1, 1, 1, 0, 0, 0, 1, 1, 0, 1, 1, 1, 0, 1, 0, 1, 0, 0, 0, 0, 1, 0, 0, 1, 0, 1, 1, 0, 0, 1, 1, 1, 1, 1, 0, 0, 0, 1, 1, 0, 1, 1, 1, 0, 1, 0, 1, 0, 0, 0, 0, 1, 0, 0, 1, 0, 1, 1, 0, 0, 1, 1, 1, 1, 1, 0, 0, 0, 1, 1, 0, 1, 1, 1, 0, 1, 0, 1, 0, 0, 0, 0, 1, 0, 0, 1, 0, 1, 1, 0, 0, 1, 1, 1, 1, 1, 0, 0, 0, 1, 1, 0, 1, 1, 1, 0, 1, 0, 1, 0, 0, 0, 0, 1, 0, 0, 1, 0, 1, 1, 0, 0, 1, 1, 1, 1, 1, 0, 0, 0, 1, 1, 0, 1, 1, 1, 0, 1, 0, 1, 0, 0, 0, 0, 1, 0, 0, 1, 0, 1, 1, 0, 0, 1, 1, 1, 1, 1, 0, 0, 0, 1, 1, 0, 1, 1, 1, 0, 1, 0, 1, 0, 0, 0, 0, 1, 0, 0, 1, 0, 1, 1, 0, 0, 1, 1, 1, 1, 1, 0, 0, 0, 1, 1, 0, 1, 1, 1, 0, 1, 0, 1, 0, 0, 0, 0, 1, 0, 0, 1, 0, 1, 1, 0, 0, 1, 1, 1, 1, 1, 0, 0, 0, 1, 1, 0, 1, 1, 1, 0, 1, 0, 1, 0, 0, 0, 0, 1, 0, 0, 1, 0, 1, 1, 0, 0, 1, 1, 1, 1, 1, 0, 0, 0, 1, 1, 0, 1, 1, 1, 0, 1, 0, 1, 0, 0, 0, 0, 1, 0, 0, 1, 0, 1, 1, 0, 0, 1, 1, 1, 1, 1, 0, 0, 0, 1, 1, 0, 1, 1, 1, 0, 1, 0, 1, 0, 0, 0, 0, 1, 0, 0, 1, 0, 1, 1, 0, 0, 1, 1, 1, 1, 1, 0, 0, 0, 1, 1, 0, 1, 1, 1, 0, 1, 0, 1, 0, 0, 0, 0, 1, 0, 0, 1, 0, 1, 1, 0, 0, 1, 1, 1, 1, 1, 0, 0, 0, 1, 1, 0, 1, 1, 1, 0, 1, 0, 1, 0, 0, 0, 0, 1, 0, 0, 1, 0, 1, 1, 0, 0, 1, 1, 1, 1, 1, 0, 0, 0, 1, 1, 0, 1, 1, 1, 0, 1, 0, 1, 0, 0, 0, 0, 1, 0, 0, 1, 0, 1, 1, 0, 0, 1, 1, 1, 1, 1, 0, 0, 0, 1, 1, 0, 1, 1, 1, 0, 1, 0, 1, 0, 0, 0, 0, 1, 0, 0, 1, 0, 1, 1, 0, 0, 1, 1, 1, 1, 1, 0, 0, 0, 1, 1, 0, 1, 1, 1, 0, 1, 0, 1, 0, 0, 0, 0, 1, 0, 0, 1, 0, 1, 1, 0, 0, 1, 1, 1, 1, 1, 0, 0, 0, 1, 1, 0, 1, 1, 1, 0, 1, 0, 1, 0, 0, 0, 0, 1, 0, 0, 1, 0, 1, 1, 0, 0, 1, 1, 1, 1, 1, 0, 0, 0, 1, 1, 0, 1, 1, 1, 0, 1, 0, 1, 0, 0, 0, 0, 1, 0, 0, 1, 0, 1, 1, 0, 0, 1, 1, 1, 1, 1, 0, 0, 0, 1, 1, 0, 1, 1, 1, 0, 1, 0, 1, 0, 0, 0, 0, 1, 0, 0, 1, 0, 1, 1, 0, 0, 1, 1, 1, 1, 1, 0, 0, 0, 1, 1, 0, 1, 1, 1, 0, 1, 0, 1, 0, 0, 0, 0, 1, 0, 0, 1, 0, 1, 1, 0, 0, 1, 1, 1, 1, 1, 0, 0, 0, 1, 1, 0, 1, 1, 1, 0, 1, 0, 1, 0, 0, 0, 0, 1, 0, 0, 1, 0, 1, 1, 0, 0, 1, 1, 1, 1, 1, 0, 0, 0, 1, 1, 0, 1, 1, 1, 0, 1, 0, 1, 0, 0, 0, 0, 1, 0, 0, 1, 0, 1, 1, 0, 0, 1, 1, 1, 1, 1, 0, 0, 0, 1, 1, 0, 1, 1, 1, 0, 1, 0, 1, 0, 0, 0, 0, 1, 0, 0, 1, 0, 1, 1, 0, 0, 1, 1, 1, 1, 1, 0, 0, 0, 1, 1, 0, 1, 1, 1, 0, 1, 0, 1, 0, 0, 0, 0, 1, 0, 0, 1, 0, 1, 1, 0, 0, 1, 1, 1, 1, 1, 0, 0, 0, 1, 1, 0, 1, 1, 1, 0, 1, 0, 1, 0, 0, 0, 0, 1, 0, 0, 1, 0, 1, 1, 0, 0, 1, 1, 1, 1, 1, 0, 0, 0, 1, 1, 0, 1, 1, 1, 0, 1, 0, 1, 0, 0, 0, 0, 1, 0, 0, 1, 0, 1, 1, 0, 0, 1, 1, 1, 1, 1, 0, 0, 0, 1, 1, 0, 1, 1, 1, 0, 1, 0, 1, 0, 0, 0, 0, 1, 0, 0, 1, 0, 1, 1, 0, 0, 1, 1, 1, 1, 1, 0, 0, 0, 1, 1, 0, 1, 1, 1, 0, 1, 0, 1, 0, 0, 0, 0, 1, 0, 0, 1, 0, 1, 1, 0, 0, 1, 1, 1, 1, 1, 0, 0, 0, 1, 1, 0, 1, 1, 1, 0, 1, 0, 1, 0, 0, 0, 0, 1, 0, 0, 1, 0, 1, 1, 0, 0, 1, 1, 1, 1, 1, 0, 0, 0, 1, 1, 0, 1, 1, 1, 0, 1, 0, 1, 0, 0, 0, 0, 1, 0, 0, 1, 0, 1, 1, 0, 0, 1, 1, 1, 1, 1, 0, 0, 0, 1, 1, 0, 1, 1, 1, 0, 1, 0, 1, 0, 0, 0, 0, 1, 0, 0, 1, 0, 1, 1, 0, 0, 1, 1, 1, 1, 1, 0, 0, 0, 1, 1, 0, 1, 1, 1, 0, 1, 0, 1, 0, 0, 0, 0, 1, 0, 0, 1, 0, 1, 1, 0, 0, 1, 1, 1, 1, 1, 0, 0, 0, 1, 1, 0, 1, 1, 1, 0, 1, 0, 1, 0, 0, 0, 0, 1, 0, 0, 1, 0, 1, 1, 0, 0, 1, 1, 1, 1, 1, 0, 0, 0, 1, 1, 0, 1, 1, 1, 0, 1, 0, 1, 0, 0, 0, 0, 1, 0, 0, 1, 0, 1, 1, 0, 0, 1, 1, 1, 1, 1, 0, 0, 0, 1, 1, 0, 1, 1, 1, 0, 1, 0, 1, 0, 0, 0, 0, 1, 0, 0, 1, 0, 1, 1, 0, 0, 1, 1, 1, 1, 1, 0, 0, 0, 1, 1, 0, 1, 1, 1, 0, 1, 0, 1, 0, 0, 0, 0, 1, 0, 0, 1, 0, 1, 1, 0, 0, 1, 1, 1, 1, 1, 0, 0, 0, 1, 1, 0, 1, 1, 1, 0, 1, 0, 1, 0, 0, 0, 0, 1, 0, 0, 1, 0, 1, 1, 0, 0, 1, 1, 1, 1, 1, 0, 0, 0, 1, 1, 0, 1, 1, 1, 0, 1, 0, 1, 0, 0, 0, 0, 1, 0, 0, 1, 0, 1, 1, 0, 0, 1, 1, 1, 1, 1, 0, 0, 0, 1, 1, 0, 1, 1, 1, 0, 1, 0, 1, 0, 0, 0, 0, 1, 0, 0, 1, 0, 1, 1, 0, 0, 1, 1, 1, 1, 1, 0, 0, 0, 1, 1, 0, 1, 1, 1, 0, 1, 0, 1, 0, 0, 0, 0, 1, 0, 0, 1, 0, 1, 1, 0, 0, 1, 1, 1, 1, 1, 0, 0, 0, 1, 1, 0, 1, 1, 1, 0, 1, 0, 1, 0, 0, 0, 0, 1, 0, 0, 1, 0, 1, 1, 0, 0, 1, 1, 1, 1, 1, 0, 0, 0, 1, 1, 0, 1, 1, 1, 0, 1, 0, 1, 0, 0, 0, 0, 1, 0, 0, 1, 0, 1, 1, 0, 0, 1, 1, 1, 1, 1, 0, 0, 0, 1, 1, 0, 1, 1, 1, 0, 1, 0, 1, 0, 0, 0, 0, 1, 0, 0, 1, 0, 1, 1, 0, 0, 1, 1, 1, 1, 1, 0, 0, 0, 1, 1, 0, 1, 1, 1, 0, 1, 0, 1, 0, 0, 0, 0, 1, 0, 0, 1, 0, 1, 1, 0, 0, 1, 1, 1, 1, 1, 0, 0, 0, 1, 1, 0, 1, 1, 1, 0, 1, 0, 1, 0, 0, 0, 0, 1, 0, 0, 1, 0, 1, 1, 0, 0, 1, 1, 1, 1, 1, 0, 0, 0, 1, 1, 0, 1, 1, 1, 0, 1, 0, 1, 0, 0, 0, 0, 1, 0, 0, 1, 0, 1, 1, 0, 0, 1, 1, 1, 1, 1, 0, 0, 0, 1, 1, 0, 1, 1, 1, 0, 1, 0, 1, 0, 0, 0, 0, 1, 0, 0, 1, 0, 1, 1, 0, 0, 1, 1, 1, 1, 1, 0, 0, 0, 1, 1, 0, 1, 1, 1, 0, 1, 0, 1, 0, 0, 0, 0, 1, 0, 0, 1, 0, 1, 1, 0, 0, 1, 1, 1, 1, 1, 0, 0, 0, 1, 1, 0, 1, 1, 1, 0, 1, 0, 1, 0, 0, 0, 0, 1, 0, 0, 1, 0, 1, 1, 0, 0, 1, 1, 1, 1, 1, 0, 0, 0, 1, 1, 0, 1, 1, 1, 0, 1, 0, 1, 0, 0, 0, 0, 1, 0, 0, 1, 0, 1, 1, 0, 0, 1, 1, 1, 1, 1, 0, 0, 0, 1, 1, 0, 1, 1, 1, 0, 1, 0, 1, 0, 0, 0, 0, 1, 0, 0, 1, 0, 1, 1, 0, 0, 1, 1, 1, 1, 1, 0, 0, 0, 1, 1, 0, 1, 1, 1, 0, 1, 0, 1, 0, 0, 0, 0, 1, 0, 0, 1, 0, 1, 1, 0, 0, 1, 1, 1, 1, 1, 0, 0, 0, 1, 1, 0, 1, 1, 1, 0, 1, 0, 1, 0, 0, 0, 0, 1, 0, 0, 1, 0, 1, 1, 0, 0, 1, 1, 1, 1, 1, 0, 0, 0, 1, 1, 0, 1, 1, 1, 0, 1, 0, 1, 0, 0, 0, 0, 1, 0, 0, 1, 0, 1, 1, 0, 0, 1, 1, 1, 1, 1, 0, 0, 0, 1, 1, 0, 1, 1, 1, 0, 1, 0, 1, 0, 0, 0, 0, 1, 0, 0, 1, 0, 1, 1, 0, 0, 1, 1, 1, 1, 1, 0, 0, 0, 1, 1, 0, 1, 1, 1, 0, 1, 0, 1, 0, 0, 0, 0, 1, 0, 0, 1, 0, 1, 1, 0, 0, 1, 1, 1, 1, 1, 0, 0, 0, 1, 1, 0, 1, 1, 1, 0, 1, 0, 1, 0, 0, 0, 0, 1, 0, 0, 1, 0, 1, 1, 0, 0, 1, 1, 1, 1, 1, 0, 0, 0, 1, 1, 0, 1, 1, 1, 0, 1, 0, 1, 0, 0, 0, 0, 1, 0, 0, 1, 0, 1, 1, 0, 0, 1, 1, 1, 1, 1, 0, 0, 0, 1, 1, 0, 1, 1, 1, 0, 1, 0, 1, 0, 0, 0, 0, 1, 0, 0, 1, 0, 1, 1, 0, 0, 1, 1, 1, 1, 1, 0, 0, 0, 1, 1, 0, 1, 1, 1, 0, 1, 0, 1, 0, 0, 0, 0, 1, 0, 0, 1, 0, 1, 1, 0, 0, 1, 1, 1, 1, 1, 0, 0, 0, 1, 1, 0, 1, 1, 1, 0, 1, 0, 1, 0, 0, 0, 0, 1, 0, 0, 1, 0, 1, 1, 0, 0, 1, 1, 1, 1, 1, 0, 0, 0, 1, 1, 0, 1, 1, 1, 0, 1, 0, 1, 0, 0, 0, 0, 1, 0, 0, 1, 0, 1, 1, 0, 0, 1, 1, 1, 1, 1, 0, 0, 0, 1, 1, 0, 1, 1, 1, 0, 1, 0, 1, 0, 0, 0, 0, 1, 0, 0, 1, 0, 1, 1, 0, 0, 1, 1, 1, 1, 1, 0, 0, 0, 1, 1, 0, 1, 1, 1, 0, 1, 0, 1, 0, 0, 0, 0, 1, 0, 0, 1, 0, 1, 1, 0, 0, 1, 1, 1, 1, 1, 0, 0, 0, 1, 1, 0, 1, 1, 1, 0, 1, 0, 1, 0, 0, 0, 0, 1, 0, 0, 1, 0, 1, 1, 0, 0, 1, 1, 1, 1, 1, 0, 0, 0, 1, 1, 0, 1, 1, 1, 0, 1, 0, 1, 0, 0, 0, 0, 1, 0, 0, 1, 0, 1, 1, 0, 0, 1, 1, 1, 1, 1, 0, 0, 0, 1, 1, 0, 1, 1, 1, 0, 1, 0, 1, 0, 0, 0, 0, 1, 0, 0, 1, 0, 1, 1, 0, 0, 1, 1, 1, 1, 1, 0, 0, 0, 1, 1, 0, 1, 1, 1, 0, 1, 0, 1, 0, 0, 0, 0, 1, 0, 0, 1, 0, 1, 1, 0, 0, 1, 1, 1, 1, 1, 0, 0, 0, 1, 1, 0, 1, 1, 1, 0, 1, 0, 1, 0, 0, 0, 0, 1, 0, 0, 1, 0, 1, 1, 0, 0, 1, 1, 1, 1, 1, 0, 0, 0, 1, 1, 0, 1, 1, 1, 0, 1, 0, 1, 0, 0, 0, 0, 1, 0, 0, 1, 0, 1, 1, 0, 0, 1, 1, 1, 1, 1, 0, 0, 0, 1, 1, 0, 1, 1, 1, 0, 1, 0, 1, 0, 0, 0, 0, 1, 0, 0, 1, 0, 1, 1, 0, 0, 1, 1, 1, 1, 1, 0, 0, 0, 1, 1, 0, 1, 1, 1, 0, 1, 0, 1, 0, 0, 0, 0, 1, 0, 0, 1, 0, 1, 1, 0, 0, 1, 1, 1, 1, 1, 0, 0, 0, 1, 1, 0, 1, 1, 1, 0, 1, 0, 1, 0, 0, 0, 0, 1, 0, 0, 1, 0, 1, 1, 0, 0, 1, 1, 1, 1, 1, 0, 0, 0, 1, 1, 0, 1, 1, 1, 0, 1, 0, 1, 0, 0, 0, 0, 1, 0, 0, 1, 0, 1, 1, 0, 0, 1, 1, 1, 1, 1, 0, 0, 0, 1, 1, 0, 1, 1, 1, 0, 1, 0, 1, 0, 0, 0, 0, 1, 0, 0, 1, 0, 1, 1, 0, 0, 1, 1, 1, 1, 1, 0, 0, 0, 1, 1, 0, 1, 1, 1, 0, 1, 0, 1, 0, 0, 0, 0, 1, 0, 0, 1, 0, 1, 1, 0, 0, 1, 1, 1, 1, 1, 0, 0, 0, 1, 1, 0, 1, 1, 1, 0, 1, 0, 1, 0, 0, 0, 0, 1, 0, 0, 1, 0, 1, 1, 0, 0, 1, 1, 1, 1, 1, 0, 0, 0, 1, 1, 0, 1, 1, 1, 0, 1, 0, 1, 0, 0, 0, 0, 1, 0, 0, 1, 0, 1, 1, 0, 0, 1, 1, 1, 1, 1, 0, 0, 0, 1, 1, 0, 1, 1, 1, 0, 1, 0, 1, 0, 0, 0, 0, 1, 0, 0, 1, 0, 1, 1, 0, 0, 1, 1, 1, 1, 1, 0, 0, 0, 1, 1, 0, 1, 1, 1, 0, 1, 0, 1, 0, 0, 0, 0, 1, 0, 0, 1, 0, 1, 1, 0, 0, 1, 1, 1, 1, 1, 0, 0, 0, 1, 1, 0, 1, 1, 1, 0, 1, 0, 1, 0, 0, 0, 0, 1, 0, 0, 1, 0, 1, 1, 0, 0, 1, 1, 1, 1, 1, 0, 0, 0, 1, 1, 0, 1, 1, 1, 0, 1, 0, 1, 0, 0, 0, 0, 1, 0, 0, 1, 0, 1, 1, 0, 0, 1, 1, 1, 1, 1, 0, 0, 0, 1, 1, 0, 1, 1, 1, 0, 1, 0, 1, 0, 0, 0, 0, 1, 0, 0, 1, 0, 1, 1, 0, 0, 1]\n"
          ],
          "name": "stdout"
        }
      ]
    },
    {
      "cell_type": "markdown",
      "metadata": {
        "id": "4eDGfPAVtX81",
        "colab_type": "text"
      },
      "source": [
        "#Calculating u"
      ]
    },
    {
      "cell_type": "code",
      "metadata": {
        "id": "AhFOl9vM31M1",
        "colab_type": "code",
        "colab": {
          "base_uri": "https://localhost:8080/",
          "height": 54
        },
        "outputId": "3735eb92-2007-4ed8-85e4-14aa720173df"
      },
      "source": [
        "decimal = []\n",
        "for i in range(0,numofbit,4):\n",
        "  temp = str(b[i])+str(b[i+1])+str(b[i+2])+str(b[i+3])\n",
        "  # print(temp)\n",
        "  temp = int(temp,2)\n",
        "  decimal.append(temp)\n",
        "print(decimal)"
      ],
      "execution_count": null,
      "outputs": [
        {
          "output_type": "stream",
          "text": [
            "[15, 8, 13, 13, 4, 2, 5, 9, 15, 1, 11, 10, 8, 4, 11, 3, 14, 3, 7, 5, 0, 9, 6, 7, 12, 6, 14, 10, 1, 2, 12, 15, 8, 13, 13, 4, 2, 5, 9, 15, 1, 11, 10, 8, 4, 11, 3, 14, 3, 7, 5, 0, 9, 6, 7, 12, 6, 14, 10, 1, 2, 12, 15, 8, 13, 13, 4, 2, 5, 9, 15, 1, 11, 10, 8, 4, 11, 3, 14, 3, 7, 5, 0, 9, 6, 7, 12, 6, 14, 10, 1, 2, 12, 15, 8, 13, 13, 4, 2, 5, 9, 15, 1, 11, 10, 8, 4, 11, 3, 14, 3, 7, 5, 0, 9, 6, 7, 12, 6, 14, 10, 1, 2, 12, 15, 8, 13, 13, 4, 2, 5, 9, 15, 1, 11, 10, 8, 4, 11, 3, 14, 3, 7, 5, 0, 9, 6, 7, 12, 6, 14, 10, 1, 2, 12, 15, 8, 13, 13, 4, 2, 5, 9, 15, 1, 11, 10, 8, 4, 11, 3, 14, 3, 7, 5, 0, 9, 6, 7, 12, 6, 14, 10, 1, 2, 12, 15, 8, 13, 13, 4, 2, 5, 9, 15, 1, 11, 10, 8, 4, 11, 3, 14, 3, 7, 5, 0, 9, 6, 7, 12, 6, 14, 10, 1, 2, 12, 15, 8, 13, 13, 4, 2, 5, 9, 15, 1, 11, 10, 8, 4, 11, 3, 14, 3, 7, 5, 0, 9, 6, 7, 12, 6, 14, 10, 1, 2, 12, 15, 8, 13, 13, 4, 2, 5, 9, 15, 1, 11, 10, 8, 4, 11, 3, 14, 3, 7, 5, 0, 9, 6, 7, 12, 6, 14, 10, 1, 2, 12, 15, 8, 13, 13, 4, 2, 5, 9, 15, 1, 11, 10, 8, 4, 11, 3, 14, 3, 7, 5, 0, 9, 6, 7, 12, 6, 14, 10, 1, 2, 12, 15, 8, 13, 13, 4, 2, 5, 9, 15, 1, 11, 10, 8, 4, 11, 3, 14, 3, 7, 5, 0, 9, 6, 7, 12, 6, 14, 10, 1, 2, 12, 15, 8, 13, 13, 4, 2, 5, 9, 15, 1, 11, 10, 8, 4, 11, 3, 14, 3, 7, 5, 0, 9, 6, 7, 12, 6, 14, 10, 1, 2, 12, 15, 8, 13, 13, 4, 2, 5, 9, 15, 1, 11, 10, 8, 4, 11, 3, 14, 3, 7, 5, 0, 9, 6, 7, 12, 6, 14, 10, 1, 2, 12, 15, 8, 13, 13, 4, 2, 5, 9, 15, 1, 11, 10, 8, 4, 11, 3, 14, 3, 7, 5, 0, 9, 6, 7, 12, 6, 14, 10, 1, 2, 12, 15, 8, 13, 13, 4, 2, 5, 9, 15, 1, 11, 10, 8, 4, 11, 3, 14, 3, 7, 5, 0, 9, 6, 7, 12, 6, 14, 10, 1, 2, 12, 15, 8, 13, 13, 4, 2, 5, 9, 15, 1, 11, 10, 8, 4, 11, 3, 14, 3, 7, 5, 0, 9, 6, 7, 12, 6, 14, 10, 1, 2, 12, 15, 8, 13, 13, 4, 2, 5, 9, 15, 1, 11, 10, 8, 4, 11, 3, 14, 3, 7, 5, 0, 9, 6, 7, 12, 6, 14, 10, 1, 2, 12, 15, 8, 13, 13, 4, 2, 5, 9, 15, 1, 11, 10, 8, 4, 11, 3, 14, 3, 7, 5, 0, 9, 6, 7, 12, 6, 14, 10, 1, 2, 12, 15, 8, 13, 13, 4, 2, 5, 9, 15, 1, 11, 10, 8, 4, 11, 3, 14, 3, 7, 5, 0, 9, 6, 7, 12, 6, 14, 10, 1, 2, 12, 15, 8, 13, 13, 4, 2, 5, 9, 15, 1, 11, 10, 8, 4, 11, 3, 14, 3, 7, 5, 0, 9, 6, 7, 12, 6, 14, 10, 1, 2, 12, 15, 8, 13, 13, 4, 2, 5, 9, 15, 1, 11, 10, 8, 4, 11, 3, 14, 3, 7, 5, 0, 9, 6, 7, 12, 6, 14, 10, 1, 2, 12, 15, 8, 13, 13, 4, 2, 5, 9, 15, 1, 11, 10, 8, 4, 11, 3, 14, 3, 7, 5, 0, 9, 6, 7, 12, 6, 14, 10, 1, 2, 12, 15, 8, 13, 13, 4, 2, 5, 9, 15, 1, 11, 10, 8, 4, 11, 3, 14, 3, 7, 5, 0, 9, 6, 7, 12, 6, 14, 10, 1, 2, 12, 15, 8, 13, 13, 4, 2, 5, 9, 15, 1, 11, 10, 8, 4, 11, 3, 14, 3, 7, 5, 0, 9, 6, 7, 12, 6, 14, 10, 1, 2, 12, 15, 8, 13, 13, 4, 2, 5, 9, 15, 1, 11, 10, 8, 4, 11, 3, 14, 3, 7, 5, 0, 9, 6, 7, 12, 6, 14, 10, 1, 2, 12, 15, 8, 13, 13, 4, 2, 5, 9, 15, 1, 11, 10, 8, 4, 11, 3, 14, 3, 7, 5, 0, 9, 6, 7, 12, 6, 14, 10, 1, 2, 12, 15, 8, 13, 13, 4, 2, 5, 9, 15, 1, 11, 10, 8, 4, 11, 3, 14, 3, 7, 5, 0, 9, 6, 7, 12, 6, 14, 10, 1, 2, 12, 15, 8, 13, 13, 4, 2, 5, 9, 15, 1, 11, 10, 8, 4, 11, 3, 14, 3, 7, 5, 0, 9, 6, 7, 12, 6, 14, 10, 1, 2, 12, 15, 8, 13, 13, 4, 2, 5, 9, 15, 1, 11, 10, 8, 4, 11, 3, 14, 3, 7, 5, 0, 9, 6, 7, 12, 6, 14, 10, 1, 2, 12, 15, 8, 13, 13, 4, 2, 5, 9, 15, 1, 11, 10, 8, 4, 11, 3, 14, 3, 7, 5, 0, 9, 6, 7, 12, 6, 14, 10, 1, 2, 12, 15, 8, 13, 13, 4, 2, 5, 9, 15, 1, 11, 10, 8, 4, 11, 3, 14, 3, 7, 5, 0, 9, 6, 7, 12, 6, 14, 10, 1, 2, 12, 15, 8, 13, 13, 4, 2, 5, 9, 15, 1, 11, 10, 8, 4, 11, 3, 14, 3, 7, 5, 0, 9, 6, 7, 12, 6, 14, 10, 1, 2, 12, 15, 8, 13, 13, 4, 2, 5, 9]\n"
          ],
          "name": "stdout"
        }
      ]
    },
    {
      "cell_type": "code",
      "metadata": {
        "id": "n6KM_ots5X5k",
        "colab_type": "code",
        "colab": {
          "base_uri": "https://localhost:8080/",
          "height": 54
        },
        "outputId": "50635a98-cffc-4446-acf7-7aee8d814863"
      },
      "source": [
        "u = []\n",
        "for i in decimal:\n",
        "  u.append(i/a)\n",
        "print(u)"
      ],
      "execution_count": null,
      "outputs": [
        {
          "output_type": "stream",
          "text": [
            "[0.9375, 0.5, 0.8125, 0.8125, 0.25, 0.125, 0.3125, 0.5625, 0.9375, 0.0625, 0.6875, 0.625, 0.5, 0.25, 0.6875, 0.1875, 0.875, 0.1875, 0.4375, 0.3125, 0.0, 0.5625, 0.375, 0.4375, 0.75, 0.375, 0.875, 0.625, 0.0625, 0.125, 0.75, 0.9375, 0.5, 0.8125, 0.8125, 0.25, 0.125, 0.3125, 0.5625, 0.9375, 0.0625, 0.6875, 0.625, 0.5, 0.25, 0.6875, 0.1875, 0.875, 0.1875, 0.4375, 0.3125, 0.0, 0.5625, 0.375, 0.4375, 0.75, 0.375, 0.875, 0.625, 0.0625, 0.125, 0.75, 0.9375, 0.5, 0.8125, 0.8125, 0.25, 0.125, 0.3125, 0.5625, 0.9375, 0.0625, 0.6875, 0.625, 0.5, 0.25, 0.6875, 0.1875, 0.875, 0.1875, 0.4375, 0.3125, 0.0, 0.5625, 0.375, 0.4375, 0.75, 0.375, 0.875, 0.625, 0.0625, 0.125, 0.75, 0.9375, 0.5, 0.8125, 0.8125, 0.25, 0.125, 0.3125, 0.5625, 0.9375, 0.0625, 0.6875, 0.625, 0.5, 0.25, 0.6875, 0.1875, 0.875, 0.1875, 0.4375, 0.3125, 0.0, 0.5625, 0.375, 0.4375, 0.75, 0.375, 0.875, 0.625, 0.0625, 0.125, 0.75, 0.9375, 0.5, 0.8125, 0.8125, 0.25, 0.125, 0.3125, 0.5625, 0.9375, 0.0625, 0.6875, 0.625, 0.5, 0.25, 0.6875, 0.1875, 0.875, 0.1875, 0.4375, 0.3125, 0.0, 0.5625, 0.375, 0.4375, 0.75, 0.375, 0.875, 0.625, 0.0625, 0.125, 0.75, 0.9375, 0.5, 0.8125, 0.8125, 0.25, 0.125, 0.3125, 0.5625, 0.9375, 0.0625, 0.6875, 0.625, 0.5, 0.25, 0.6875, 0.1875, 0.875, 0.1875, 0.4375, 0.3125, 0.0, 0.5625, 0.375, 0.4375, 0.75, 0.375, 0.875, 0.625, 0.0625, 0.125, 0.75, 0.9375, 0.5, 0.8125, 0.8125, 0.25, 0.125, 0.3125, 0.5625, 0.9375, 0.0625, 0.6875, 0.625, 0.5, 0.25, 0.6875, 0.1875, 0.875, 0.1875, 0.4375, 0.3125, 0.0, 0.5625, 0.375, 0.4375, 0.75, 0.375, 0.875, 0.625, 0.0625, 0.125, 0.75, 0.9375, 0.5, 0.8125, 0.8125, 0.25, 0.125, 0.3125, 0.5625, 0.9375, 0.0625, 0.6875, 0.625, 0.5, 0.25, 0.6875, 0.1875, 0.875, 0.1875, 0.4375, 0.3125, 0.0, 0.5625, 0.375, 0.4375, 0.75, 0.375, 0.875, 0.625, 0.0625, 0.125, 0.75, 0.9375, 0.5, 0.8125, 0.8125, 0.25, 0.125, 0.3125, 0.5625, 0.9375, 0.0625, 0.6875, 0.625, 0.5, 0.25, 0.6875, 0.1875, 0.875, 0.1875, 0.4375, 0.3125, 0.0, 0.5625, 0.375, 0.4375, 0.75, 0.375, 0.875, 0.625, 0.0625, 0.125, 0.75, 0.9375, 0.5, 0.8125, 0.8125, 0.25, 0.125, 0.3125, 0.5625, 0.9375, 0.0625, 0.6875, 0.625, 0.5, 0.25, 0.6875, 0.1875, 0.875, 0.1875, 0.4375, 0.3125, 0.0, 0.5625, 0.375, 0.4375, 0.75, 0.375, 0.875, 0.625, 0.0625, 0.125, 0.75, 0.9375, 0.5, 0.8125, 0.8125, 0.25, 0.125, 0.3125, 0.5625, 0.9375, 0.0625, 0.6875, 0.625, 0.5, 0.25, 0.6875, 0.1875, 0.875, 0.1875, 0.4375, 0.3125, 0.0, 0.5625, 0.375, 0.4375, 0.75, 0.375, 0.875, 0.625, 0.0625, 0.125, 0.75, 0.9375, 0.5, 0.8125, 0.8125, 0.25, 0.125, 0.3125, 0.5625, 0.9375, 0.0625, 0.6875, 0.625, 0.5, 0.25, 0.6875, 0.1875, 0.875, 0.1875, 0.4375, 0.3125, 0.0, 0.5625, 0.375, 0.4375, 0.75, 0.375, 0.875, 0.625, 0.0625, 0.125, 0.75, 0.9375, 0.5, 0.8125, 0.8125, 0.25, 0.125, 0.3125, 0.5625, 0.9375, 0.0625, 0.6875, 0.625, 0.5, 0.25, 0.6875, 0.1875, 0.875, 0.1875, 0.4375, 0.3125, 0.0, 0.5625, 0.375, 0.4375, 0.75, 0.375, 0.875, 0.625, 0.0625, 0.125, 0.75, 0.9375, 0.5, 0.8125, 0.8125, 0.25, 0.125, 0.3125, 0.5625, 0.9375, 0.0625, 0.6875, 0.625, 0.5, 0.25, 0.6875, 0.1875, 0.875, 0.1875, 0.4375, 0.3125, 0.0, 0.5625, 0.375, 0.4375, 0.75, 0.375, 0.875, 0.625, 0.0625, 0.125, 0.75, 0.9375, 0.5, 0.8125, 0.8125, 0.25, 0.125, 0.3125, 0.5625, 0.9375, 0.0625, 0.6875, 0.625, 0.5, 0.25, 0.6875, 0.1875, 0.875, 0.1875, 0.4375, 0.3125, 0.0, 0.5625, 0.375, 0.4375, 0.75, 0.375, 0.875, 0.625, 0.0625, 0.125, 0.75, 0.9375, 0.5, 0.8125, 0.8125, 0.25, 0.125, 0.3125, 0.5625, 0.9375, 0.0625, 0.6875, 0.625, 0.5, 0.25, 0.6875, 0.1875, 0.875, 0.1875, 0.4375, 0.3125, 0.0, 0.5625, 0.375, 0.4375, 0.75, 0.375, 0.875, 0.625, 0.0625, 0.125, 0.75, 0.9375, 0.5, 0.8125, 0.8125, 0.25, 0.125, 0.3125, 0.5625, 0.9375, 0.0625, 0.6875, 0.625, 0.5, 0.25, 0.6875, 0.1875, 0.875, 0.1875, 0.4375, 0.3125, 0.0, 0.5625, 0.375, 0.4375, 0.75, 0.375, 0.875, 0.625, 0.0625, 0.125, 0.75, 0.9375, 0.5, 0.8125, 0.8125, 0.25, 0.125, 0.3125, 0.5625, 0.9375, 0.0625, 0.6875, 0.625, 0.5, 0.25, 0.6875, 0.1875, 0.875, 0.1875, 0.4375, 0.3125, 0.0, 0.5625, 0.375, 0.4375, 0.75, 0.375, 0.875, 0.625, 0.0625, 0.125, 0.75, 0.9375, 0.5, 0.8125, 0.8125, 0.25, 0.125, 0.3125, 0.5625, 0.9375, 0.0625, 0.6875, 0.625, 0.5, 0.25, 0.6875, 0.1875, 0.875, 0.1875, 0.4375, 0.3125, 0.0, 0.5625, 0.375, 0.4375, 0.75, 0.375, 0.875, 0.625, 0.0625, 0.125, 0.75, 0.9375, 0.5, 0.8125, 0.8125, 0.25, 0.125, 0.3125, 0.5625, 0.9375, 0.0625, 0.6875, 0.625, 0.5, 0.25, 0.6875, 0.1875, 0.875, 0.1875, 0.4375, 0.3125, 0.0, 0.5625, 0.375, 0.4375, 0.75, 0.375, 0.875, 0.625, 0.0625, 0.125, 0.75, 0.9375, 0.5, 0.8125, 0.8125, 0.25, 0.125, 0.3125, 0.5625, 0.9375, 0.0625, 0.6875, 0.625, 0.5, 0.25, 0.6875, 0.1875, 0.875, 0.1875, 0.4375, 0.3125, 0.0, 0.5625, 0.375, 0.4375, 0.75, 0.375, 0.875, 0.625, 0.0625, 0.125, 0.75, 0.9375, 0.5, 0.8125, 0.8125, 0.25, 0.125, 0.3125, 0.5625, 0.9375, 0.0625, 0.6875, 0.625, 0.5, 0.25, 0.6875, 0.1875, 0.875, 0.1875, 0.4375, 0.3125, 0.0, 0.5625, 0.375, 0.4375, 0.75, 0.375, 0.875, 0.625, 0.0625, 0.125, 0.75, 0.9375, 0.5, 0.8125, 0.8125, 0.25, 0.125, 0.3125, 0.5625, 0.9375, 0.0625, 0.6875, 0.625, 0.5, 0.25, 0.6875, 0.1875, 0.875, 0.1875, 0.4375, 0.3125, 0.0, 0.5625, 0.375, 0.4375, 0.75, 0.375, 0.875, 0.625, 0.0625, 0.125, 0.75, 0.9375, 0.5, 0.8125, 0.8125, 0.25, 0.125, 0.3125, 0.5625, 0.9375, 0.0625, 0.6875, 0.625, 0.5, 0.25, 0.6875, 0.1875, 0.875, 0.1875, 0.4375, 0.3125, 0.0, 0.5625, 0.375, 0.4375, 0.75, 0.375, 0.875, 0.625, 0.0625, 0.125, 0.75, 0.9375, 0.5, 0.8125, 0.8125, 0.25, 0.125, 0.3125, 0.5625, 0.9375, 0.0625, 0.6875, 0.625, 0.5, 0.25, 0.6875, 0.1875, 0.875, 0.1875, 0.4375, 0.3125, 0.0, 0.5625, 0.375, 0.4375, 0.75, 0.375, 0.875, 0.625, 0.0625, 0.125, 0.75, 0.9375, 0.5, 0.8125, 0.8125, 0.25, 0.125, 0.3125, 0.5625, 0.9375, 0.0625, 0.6875, 0.625, 0.5, 0.25, 0.6875, 0.1875, 0.875, 0.1875, 0.4375, 0.3125, 0.0, 0.5625, 0.375, 0.4375, 0.75, 0.375, 0.875, 0.625, 0.0625, 0.125, 0.75, 0.9375, 0.5, 0.8125, 0.8125, 0.25, 0.125, 0.3125, 0.5625, 0.9375, 0.0625, 0.6875, 0.625, 0.5, 0.25, 0.6875, 0.1875, 0.875, 0.1875, 0.4375, 0.3125, 0.0, 0.5625, 0.375, 0.4375, 0.75, 0.375, 0.875, 0.625, 0.0625, 0.125, 0.75, 0.9375, 0.5, 0.8125, 0.8125, 0.25, 0.125, 0.3125, 0.5625, 0.9375, 0.0625, 0.6875, 0.625, 0.5, 0.25, 0.6875, 0.1875, 0.875, 0.1875, 0.4375, 0.3125, 0.0, 0.5625, 0.375, 0.4375, 0.75, 0.375, 0.875, 0.625, 0.0625, 0.125, 0.75, 0.9375, 0.5, 0.8125, 0.8125, 0.25, 0.125, 0.3125, 0.5625, 0.9375, 0.0625, 0.6875, 0.625, 0.5, 0.25, 0.6875, 0.1875, 0.875, 0.1875, 0.4375, 0.3125, 0.0, 0.5625, 0.375, 0.4375, 0.75, 0.375, 0.875, 0.625, 0.0625, 0.125, 0.75, 0.9375, 0.5, 0.8125, 0.8125, 0.25, 0.125, 0.3125, 0.5625, 0.9375, 0.0625, 0.6875, 0.625, 0.5, 0.25, 0.6875, 0.1875, 0.875, 0.1875, 0.4375, 0.3125, 0.0, 0.5625, 0.375, 0.4375, 0.75, 0.375, 0.875, 0.625, 0.0625, 0.125, 0.75, 0.9375, 0.5, 0.8125, 0.8125, 0.25, 0.125, 0.3125, 0.5625, 0.9375, 0.0625, 0.6875, 0.625, 0.5, 0.25, 0.6875, 0.1875, 0.875, 0.1875, 0.4375, 0.3125, 0.0, 0.5625, 0.375, 0.4375, 0.75, 0.375, 0.875, 0.625, 0.0625, 0.125, 0.75, 0.9375, 0.5, 0.8125, 0.8125, 0.25, 0.125, 0.3125, 0.5625, 0.9375, 0.0625, 0.6875, 0.625, 0.5, 0.25, 0.6875, 0.1875, 0.875, 0.1875, 0.4375, 0.3125, 0.0, 0.5625, 0.375, 0.4375, 0.75, 0.375, 0.875, 0.625, 0.0625, 0.125, 0.75, 0.9375, 0.5, 0.8125, 0.8125, 0.25, 0.125, 0.3125, 0.5625]\n"
          ],
          "name": "stdout"
        }
      ]
    },
    {
      "cell_type": "markdown",
      "metadata": {
        "id": "DR3FH4Lt73mM",
        "colab_type": "text"
      },
      "source": [
        "#Visualization"
      ]
    },
    {
      "cell_type": "code",
      "metadata": {
        "id": "ADkzLut61olz",
        "colab_type": "code",
        "colab": {
          "base_uri": "https://localhost:8080/",
          "height": 621
        },
        "outputId": "7c3c37a3-67f3-4a9a-cc91-95aeeae52f7f"
      },
      "source": [
        "plt.figure(figsize=(20,10))\n",
        "indices = range(0,len(u))\n",
        "plt.bar(indices,u) \n",
        "plt.xlabel('indices') \n",
        "plt.ylabel('random numbers') \n",
        "plt.title('Tausworthe generation technique') \n",
        "plt.show() "
      ],
      "execution_count": null,
      "outputs": [
        {
          "output_type": "display_data",
          "data": {
            "image/png": "[encoded data removed]",
            "text/plain": [
              "<Figure size 1440x720 with 1 Axes>"
            ]
          },
          "metadata": {
            "tags": [],
            "needs_background": "light"
          }
        }
      ]
    }
  ]
}